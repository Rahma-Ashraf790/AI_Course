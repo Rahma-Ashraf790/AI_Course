{
  "cells": [
    {
      "cell_type": "markdown",
      "id": "759d04ba",
      "metadata": {
        "id": "759d04ba"
      },
      "source": [
        "**1-Write a Python program to calculate the length of a string using 2 ways"
      ]
    },
    {
      "cell_type": "code",
      "execution_count": 1,
      "id": "e434c950",
      "metadata": {
        "id": "e434c950",
        "colab": {
          "base_uri": "https://localhost:8080/"
        },
        "outputId": "31640cb3-7d6d-4be0-a319-446851ed0480"
      },
      "outputs": [
        {
          "output_type": "stream",
          "name": "stdout",
          "text": [
            "the length of string way(1) is: 10\n",
            "the length of string way(2) is: 10\n"
          ]
        }
      ],
      "source": [
        "# first way\n",
        "string = \"rahmashraf\"\n",
        "print(f\"the length of string way(1) is: {len(string)}\")\n",
        "\n",
        "# second way\n",
        "count = 0\n",
        "for i in string:\n",
        "    count += 1\n",
        "print(f\"the length of string way(2) is: {count}\")"
      ]
    },
    {
      "cell_type": "markdown",
      "id": "d7cc9da7",
      "metadata": {
        "id": "d7cc9da7"
      },
      "source": [
        "**2-Write a Python program to get a string made of the first 2 and last 2 characters of a given string. If the string length is less than 2, return the empty string instead (\"##Sample String : 'w3resource'\n",
        "Expected Result : 'w3ce'\n",
        "##Sample String : 'w3'\n",
        "Expected Result : 'w3w3'\n",
        "##Sample String : ' w'\n",
        "Expected Result : Empty String)"
      ]
    },
    {
      "cell_type": "code",
      "execution_count": 61,
      "id": "dafa9dd8",
      "metadata": {
        "id": "dafa9dd8",
        "colab": {
          "base_uri": "https://localhost:8080/"
        },
        "outputId": "bd92e4e4-2812-4dce-fd28-f8072e486e64"
      },
      "outputs": [
        {
          "output_type": "stream",
          "name": "stdout",
          "text": [
            "Your result is: lage\n"
          ]
        }
      ],
      "source": [
        "string = \"language\"\n",
        "empty_string = \"\"\n",
        "\n",
        "if len(string) < 2:\n",
        "    print(empty_string)\n",
        "else:\n",
        "    first_2_elem = string[:2]\n",
        "    last_2_elem = string[-2:]\n",
        "    result = first_2_elem + last_2_elem\n",
        "    print(f\"Your result is: {result}\")"
      ]
    },
    {
      "cell_type": "markdown",
      "id": "1534f956",
      "metadata": {
        "id": "1534f956"
      },
      "source": [
        "**3-Write a Python program to add 'ing' at the end of a given string (length should be at least 3). If the given string already ends with 'ing', add 'ly' instead. If the string length of the given string is less than 3, leave it unchanged. (Sample String : 'abc'\n",
        "Expected Result : 'abcing')"
      ]
    },
    {
      "cell_type": "code",
      "execution_count": 3,
      "id": "7ff8cec4",
      "metadata": {
        "id": "7ff8cec4",
        "colab": {
          "base_uri": "https://localhost:8080/"
        },
        "outputId": "50b49939-d241-49d9-9d5e-c11471f78636"
      },
      "outputs": [
        {
          "output_type": "stream",
          "name": "stdout",
          "text": [
            "Enter your string: read\n",
            "Your string with adding ing:  reading\n"
          ]
        }
      ],
      "source": [
        "input_string = input(\"Enter your string: \")\n",
        "if len(input_string) < 3:\n",
        "    print(f\"Your string without changing: {input_string}\")\n",
        "else:\n",
        "    if input_string[-3:] == \"ing\":\n",
        "        print(\"Your string with adding only ly: \", input_string + \"ly\")\n",
        "    else:\n",
        "        print(\"Your string with adding ing: \", input_string + \"ing\")"
      ]
    },
    {
      "cell_type": "markdown",
      "id": "1c0a6627",
      "metadata": {
        "id": "1c0a6627"
      },
      "source": [
        "**4-Write a Python function that takes a list of words and return the longest word and the length of the longest one\n",
        "(Longest word: Exercises\n",
        "Length of the longest word: 9)"
      ]
    },
    {
      "cell_type": "code",
      "execution_count": 4,
      "id": "397341d9",
      "metadata": {
        "id": "397341d9",
        "colab": {
          "base_uri": "https://localhost:8080/"
        },
        "outputId": "bc0c2854-4a31-44b0-a0c9-89a2b11f47f8"
      },
      "outputs": [
        {
          "output_type": "stream",
          "name": "stdout",
          "text": [
            "Your list of words: [('eat', 3), ('read', 4), ('write', 5)]\n",
            "Longest word is: write and its length is: 5\n"
          ]
        }
      ],
      "source": [
        "def list_of_words(words_list):\n",
        "    A_list = []\n",
        "    for i in words_list:\n",
        "        A_list.append((i, len(i)))\n",
        "        A_list.sort()\n",
        "    print(f\"Your list of words: {A_list}\")\n",
        "    print(f\"Longest word is: {A_list[-1][0]} and its length is: {A_list[-1][1]}\")\n",
        "\n",
        "list_of_words([\"read\",\"write\",\"eat\"])"
      ]
    },
    {
      "cell_type": "markdown",
      "id": "53a03a6a",
      "metadata": {
        "id": "53a03a6a"
      },
      "source": [
        "**5-Write a Python program to change a given string to a newly string where the first and last chars have been exchanged using 2 ways (Sample String:abca  Expected Result:ebce)"
      ]
    },
    {
      "cell_type": "code",
      "execution_count": 5,
      "id": "fd327d2a",
      "metadata": {
        "id": "fd327d2a",
        "colab": {
          "base_uri": "https://localhost:8080/"
        },
        "outputId": "fae0f0f5-787b-4e47-821d-54985e09b717"
      },
      "outputs": [
        {
          "output_type": "stream",
          "name": "stdout",
          "text": [
            "Enter the char you want to use: q\n",
            "In first way new string is: qbcq\n",
            "In second way new string is: qbcq\n"
          ]
        }
      ],
      "source": [
        "string = \"abca\"\n",
        "new_char = input(\"Enter the char you want to use: \")\n",
        "first = string[0]\n",
        "last = string[-1]\n",
        "\n",
        "# first way\n",
        "new = string.replace(first,new_char)\n",
        "new = string.replace(last,new_char)\n",
        "print(f\"In first way new string is: {new}\")\n",
        "\n",
        "# second way\n",
        "result = new_char + string[1:-1] + new_char\n",
        "print(f\"In second way new string is: {result}\")"
      ]
    },
    {
      "cell_type": "markdown",
      "id": "25f89808",
      "metadata": {
        "id": "25f89808"
      },
      "source": [
        "**6-Write a Python program to remove characters that have odd index values in a given string (Sample String:abca Expected Result:ac)"
      ]
    },
    {
      "cell_type": "code",
      "execution_count": 6,
      "id": "05959bd7",
      "metadata": {
        "id": "05959bd7",
        "colab": {
          "base_uri": "https://localhost:8080/"
        },
        "outputId": "cb897e85-92fe-47be-cc1a-d806fdb4cc0e"
      },
      "outputs": [
        {
          "output_type": "stream",
          "name": "stdout",
          "text": [
            "The orginal string: abca , the new result: ac\n"
          ]
        }
      ],
      "source": [
        "def remove_odd_index(string):\n",
        "    new_str = \"\"\n",
        "    for i in range(len(string)):\n",
        "        if i % 2 == 0:\n",
        "            new_str = new_str + string[i]\n",
        "    print(f\"The orginal string: {string} , the new result: {new_str}\")\n",
        "\n",
        "remove_odd_index(\"abca\")"
      ]
    },
    {
      "cell_type": "markdown",
      "id": "eb16e898",
      "metadata": {
        "id": "eb16e898"
      },
      "source": [
        "**7-Write a Python program to count the occurrences of each word in a given sentence (Sample String:amr and ahmed are frindes but amr is the tallest Expected Result:2)"
      ]
    },
    {
      "cell_type": "code",
      "execution_count": 7,
      "id": "01ce6cf5",
      "metadata": {
        "id": "01ce6cf5",
        "colab": {
          "base_uri": "https://localhost:8080/"
        },
        "outputId": "949ed595-fd93-4dbb-d4fc-d8c96fdc2b31"
      },
      "outputs": [
        {
          "output_type": "stream",
          "name": "stdout",
          "text": [
            "The count occurance of each word: {'amr': 2, 'and': 1, 'ahmed': 1, 'are': 1, 'frindes': 1, 'but': 1, 'is': 1, 'the': 1, 'tallest': 1}\n",
            "The dictt after sorting values: {'and': 1, 'ahmed': 1, 'are': 1, 'frindes': 1, 'but': 1, 'is': 1, 'the': 1, 'tallest': 1, 'amr': 2}\n",
            "The longest count is: 2 , for word: amr\n"
          ]
        }
      ],
      "source": [
        "def count_occurance_of_words(sentence):\n",
        "    A_list = []\n",
        "    dictt = {}\n",
        "    for i in sentence:\n",
        "        if i in dictt:\n",
        "            dictt[i] += 1\n",
        "        else:\n",
        "            dictt[i] = 1\n",
        "        result = dict(sorted(dictt.items(),key=lambda x: x[1]))\n",
        "\n",
        "    last_key = list(result)[-1]\n",
        "    last_value = result[last_key]\n",
        "\n",
        "    print(f\"The count occurance of each word: {dictt}\")\n",
        "    print(f\"The dictt after sorting values: {result}\")\n",
        "    print(f\"The longest count is: {last_value} , for word: {last_key}\")\n",
        "\n",
        "count_occurance_of_words(\"amr and ahmed are frindes but amr is the tallest\".split(' '))"
      ]
    },
    {
      "cell_type": "markdown",
      "id": "4e8125f1",
      "metadata": {
        "id": "4e8125f1"
      },
      "source": [
        "**8-Write a Python script that takes input from the user and displays that input back in upper and lower cases"
      ]
    },
    {
      "cell_type": "code",
      "execution_count": 8,
      "id": "66c8f778",
      "metadata": {
        "id": "66c8f778",
        "colab": {
          "base_uri": "https://localhost:8080/"
        },
        "outputId": "87f0ebfe-991c-4844-9ff3-50ddaf6b5201"
      },
      "outputs": [
        {
          "output_type": "stream",
          "name": "stdout",
          "text": [
            "Enter your input: rAhMa\n",
            "Your input in upper case is: RAHMA\n",
            "Your input in lower case is: rahma\n"
          ]
        }
      ],
      "source": [
        "user_input = input(\"Enter your input: \")\n",
        "output_upper = user_input.upper()\n",
        "output_lower = user_input.lower()\n",
        "\n",
        "print(f\"Your input in upper case is: {output_upper}\")\n",
        "print(f\"Your input in lower case is: {output_lower}\")"
      ]
    },
    {
      "cell_type": "markdown",
      "id": "fcd68aa1",
      "metadata": {
        "id": "fcd68aa1"
      },
      "source": [
        "**9-Write a Python function to reverse a string if its length is a multiple of 4"
      ]
    },
    {
      "cell_type": "code",
      "execution_count": 9,
      "id": "0671a931",
      "metadata": {
        "id": "0671a931",
        "colab": {
          "base_uri": "https://localhost:8080/"
        },
        "outputId": "c438a541-0a30-4b27-f474-e475fa61102b"
      },
      "outputs": [
        {
          "output_type": "stream",
          "name": "stdout",
          "text": [
            "Reversed string is: ydemahom\n"
          ]
        }
      ],
      "source": [
        "def reverse_multi4(string):\n",
        "    if len(string) % 4 == 0:\n",
        "        new_str = string[-1::-1]\n",
        "        print(f\"Reversed string is: {new_str}\")\n",
        "    else:\n",
        "        print(\"The string not multiple of 4\")\n",
        "\n",
        "reverse_multi4(\"mohamedy\")"
      ]
    },
    {
      "cell_type": "markdown",
      "id": "b577c68d",
      "metadata": {
        "id": "b577c68d"
      },
      "source": [
        "**10- Write a Python program to remove a newline in Python"
      ]
    },
    {
      "cell_type": "code",
      "execution_count": 10,
      "id": "e0c6525a",
      "metadata": {
        "id": "e0c6525a",
        "colab": {
          "base_uri": "https://localhost:8080/"
        },
        "outputId": "f711af0c-7e6c-4ef4-b4b5-4d03575cb6fb"
      },
      "outputs": [
        {
          "output_type": "stream",
          "name": "stdout",
          "text": [
            "Original text: \n",
            "How \n",
            "are \n",
            "you?\n",
            "Text after removing newline is: How are you?\n"
          ]
        }
      ],
      "source": [
        "text = \"How \\nare \\nyou?\"\n",
        "\n",
        "print(\"Original text: \")\n",
        "print(text)\n",
        "\n",
        "new_text = text.replace(\"\\n\",'')\n",
        "print(f\"Text after removing newline is: {new_text}\")"
      ]
    },
    {
      "cell_type": "markdown",
      "id": "80db5ae0",
      "metadata": {
        "id": "80db5ae0"
      },
      "source": [
        "**11-Write a Python program to check whether a string starts with specified characters"
      ]
    },
    {
      "cell_type": "code",
      "execution_count": 11,
      "id": "0cc4e03e",
      "metadata": {
        "id": "0cc4e03e",
        "colab": {
          "base_uri": "https://localhost:8080/"
        },
        "outputId": "7b29c54e-82bc-4ce3-89fb-bf262a5a4019"
      },
      "outputs": [
        {
          "output_type": "stream",
          "name": "stdout",
          "text": [
            "Yes, it starts with char p\n"
          ]
        }
      ],
      "source": [
        "text = \"purple\"\n",
        "char = \"p\"\n",
        "\n",
        "if text.startswith(char) == True:\n",
        "    print(\"Yes, it starts with char p\")\n",
        "else:\n",
        "    print(\"Noo, it doesn't start with it\")"
      ]
    },
    {
      "cell_type": "markdown",
      "id": "593a68db",
      "metadata": {
        "id": "593a68db"
      },
      "source": [
        "**12- Write a Python program to add prefix text to all of the lines in a string"
      ]
    },
    {
      "cell_type": "code",
      "execution_count": 12,
      "id": "d2e46ada",
      "metadata": {
        "id": "d2e46ada",
        "colab": {
          "base_uri": "https://localhost:8080/"
        },
        "outputId": "26d7ae0f-e874-4740-c4cd-aa696ea52aaa"
      },
      "outputs": [
        {
          "output_type": "stream",
          "name": "stdout",
          "text": [
            "The result:\n",
            "==>The sun is a shining star\n",
            "==>that provides Earth with light and heat\n",
            "==>making life possible.\n"
          ]
        }
      ],
      "source": [
        "string = '''The sun is a shining star\n",
        "that provides Earth with light and heat\n",
        "making life possible.\n",
        "'''\n",
        "prefix = \"==>\"\n",
        "result = \"\\n\".join(prefix + i for i in string.splitlines())\n",
        "print(f\"The result:\\n{result}\")"
      ]
    },
    {
      "cell_type": "markdown",
      "id": "86fa1543",
      "metadata": {
        "id": "86fa1543"
      },
      "source": [
        "**13-Write a Python program to print the following numbers up to 2 decimal places"
      ]
    },
    {
      "cell_type": "code",
      "execution_count": 13,
      "id": "cd4a9d89",
      "metadata": {
        "id": "cd4a9d89",
        "colab": {
          "base_uri": "https://localhost:8080/"
        },
        "outputId": "4eb89998-308d-438f-f17e-14a8c660e65c"
      },
      "outputs": [
        {
          "output_type": "stream",
          "name": "stdout",
          "text": [
            "Enter your number: 3.145632\n",
            "Formatted Number: 3.15\n"
          ]
        }
      ],
      "source": [
        "number = float(input(\"Enter your number: \"))\n",
        "\n",
        "print(f\"Formatted Number: {number:.2f}\")"
      ]
    },
    {
      "cell_type": "markdown",
      "id": "452c0ab0",
      "metadata": {
        "id": "452c0ab0"
      },
      "source": [
        "**14-Write a Python program to print the following numbers up to 2 decimal places with a sign"
      ]
    },
    {
      "cell_type": "code",
      "execution_count": 14,
      "id": "73e82479",
      "metadata": {
        "id": "73e82479",
        "colab": {
          "base_uri": "https://localhost:8080/"
        },
        "outputId": "97243d27-2336-46fe-9ae2-ca21c82df2d7"
      },
      "outputs": [
        {
          "output_type": "stream",
          "name": "stdout",
          "text": [
            "Enter your number: 130.25564\n",
            "Formatted Number: 130.26\n"
          ]
        }
      ],
      "source": [
        "number = float(input(\"Enter your number: \"))\n",
        "\n",
        "print(f\"Formatted Number: {number:.2f}\")"
      ]
    },
    {
      "cell_type": "markdown",
      "id": "32b1811a",
      "metadata": {
        "id": "32b1811a"
      },
      "source": [
        "**15-Write a Python program to display a number with a comma separator"
      ]
    },
    {
      "cell_type": "code",
      "execution_count": 15,
      "id": "f30fc0b6",
      "metadata": {
        "id": "f30fc0b6",
        "colab": {
          "base_uri": "https://localhost:8080/"
        },
        "outputId": "016b7782-3aef-47d9-fb29-a6652bab1b41"
      },
      "outputs": [
        {
          "output_type": "stream",
          "name": "stdout",
          "text": [
            "The number after put comma: 1,000,000\n"
          ]
        }
      ],
      "source": [
        "number = 1000000\n",
        "\n",
        "print(f\"The number after put comma: {number:,d}\")"
      ]
    },
    {
      "cell_type": "markdown",
      "id": "0477f487",
      "metadata": {
        "id": "0477f487"
      },
      "source": [
        "**16-Write a Python program to reverse a string using 2 ways"
      ]
    },
    {
      "cell_type": "code",
      "execution_count": 16,
      "id": "aa8beec8",
      "metadata": {
        "id": "aa8beec8",
        "colab": {
          "base_uri": "https://localhost:8080/"
        },
        "outputId": "38451c4e-88e4-4e34-91fe-de7fb20c6b3c"
      },
      "outputs": [
        {
          "output_type": "stream",
          "name": "stdout",
          "text": [
            "The reversed string way1 is: emoclew\n",
            "The reversed string way2 is: emoclew\n"
          ]
        }
      ],
      "source": [
        "# first way\n",
        "string = \"welcome\"\n",
        "reversed_str = string[-1::-1]\n",
        "print(f\"The reversed string way1 is: {reversed_str}\")\n",
        "\n",
        "# second way\n",
        "def reversed_func(string):\n",
        "    reversed_string = \"\"\n",
        "    for i in string:\n",
        "        reversed_string = i + reversed_string\n",
        "    print(f\"The reversed string way2 is: {reversed_string}\")\n",
        "\n",
        "reversed_func(\"welcome\")"
      ]
    },
    {
      "cell_type": "markdown",
      "id": "5afc3166",
      "metadata": {
        "id": "5afc3166"
      },
      "source": [
        " **17-Write a Python program to count repeated characters in a string (hint:use dictionary)"
      ]
    },
    {
      "cell_type": "code",
      "execution_count": 17,
      "id": "515a469c",
      "metadata": {
        "id": "515a469c",
        "colab": {
          "base_uri": "https://localhost:8080/"
        },
        "outputId": "bf76ee18-d98b-447a-a823-483339b4b783"
      },
      "outputs": [
        {
          "output_type": "stream",
          "name": "stdout",
          "text": [
            "Count of reapeted character(a) in your dict is: 5\n"
          ]
        }
      ],
      "source": [
        "dictt = {'ravi': 10, 'rajnish': 9, 'sanjeev': 15, 'yash': 2, 'suraj': 32}\n",
        "char = \"a\"\n",
        "count = 0\n",
        "\n",
        "for i in dictt:\n",
        "    for j in i:\n",
        "        if j == char:\n",
        "            count += 1\n",
        "print(f\"Count of reapeted character({char}) in your dict is: {count}\")"
      ]
    },
    {
      "cell_type": "markdown",
      "id": "ae14e4e5",
      "metadata": {
        "id": "ae14e4e5"
      },
      "source": [
        "**18-Write a Python program to find the first non-repeating character in a given string"
      ]
    },
    {
      "cell_type": "code",
      "execution_count": 18,
      "id": "d73778e5",
      "metadata": {
        "id": "d73778e5",
        "colab": {
          "base_uri": "https://localhost:8080/"
        },
        "outputId": "47fb1675-3fed-49e3-8031-8d7b67146b52"
      },
      "outputs": [
        {
          "output_type": "stream",
          "name": "stdout",
          "text": [
            "first Non repeating char:\n",
            "l\n"
          ]
        }
      ],
      "source": [
        "def first_non_repeated_func(string):\n",
        "    non_countered_char = []\n",
        "    count_dict = {}\n",
        "    for i in string:\n",
        "        if i in count_dict:\n",
        "            count_dict[i] += 1\n",
        "        else:\n",
        "            count_dict[i] = 1\n",
        "            non_countered_char.append(i)\n",
        "    for i in non_countered_char:\n",
        "        if count_dict[i] == 1:\n",
        "            return i\n",
        "    return None\n",
        "\n",
        "print(\"first Non repeating char:\")\n",
        "print(first_non_repeated_func(\"welcomew\"))"
      ]
    },
    {
      "cell_type": "markdown",
      "id": "3adf5669",
      "metadata": {
        "id": "3adf5669"
      },
      "source": [
        "**19-Write a Python program to remove spaces from a given string"
      ]
    },
    {
      "cell_type": "code",
      "execution_count": 19,
      "id": "b4f22602",
      "metadata": {
        "id": "b4f22602",
        "colab": {
          "base_uri": "https://localhost:8080/"
        },
        "outputId": "7dc2e0c9-f8e3-4204-81f0-c1d8719dc00a"
      },
      "outputs": [
        {
          "output_type": "stream",
          "name": "stdout",
          "text": [
            "The result is: language\n"
          ]
        }
      ],
      "source": [
        "string = \"lang uage\"\n",
        "result = string.replace(\" \",\"\")\n",
        "print(f\"The result is: {result}\")"
      ]
    },
    {
      "cell_type": "markdown",
      "id": "734de60c",
      "metadata": {
        "id": "734de60c"
      },
      "source": [
        "**20-Write a Python program to count the number of non-empty substrings of a given string"
      ]
    },
    {
      "cell_type": "code",
      "execution_count": 20,
      "id": "ef3f2274",
      "metadata": {
        "id": "ef3f2274",
        "colab": {
          "base_uri": "https://localhost:8080/"
        },
        "outputId": "1eca7a87-96a3-48dd-d0d0-1c8819040c5a"
      },
      "outputs": [
        {
          "output_type": "stream",
          "name": "stdout",
          "text": [
            "Count the number of non-empty substrings: 55\n"
          ]
        }
      ],
      "source": [
        "def non_empty_substring(string):\n",
        "    result = int((len(string) * (len(string)+1))/2)\n",
        "    print(f\"Count the number of non-empty substrings: {result}\")\n",
        "\n",
        "non_empty_substring(\"Automation\")"
      ]
    },
    {
      "cell_type": "markdown",
      "id": "509998e2",
      "metadata": {
        "id": "509998e2"
      },
      "source": [
        "**21-write a Python program to swap first and last element of any list."
      ]
    },
    {
      "cell_type": "code",
      "execution_count": 21,
      "id": "68692d7f",
      "metadata": {
        "id": "68692d7f",
        "colab": {
          "base_uri": "https://localhost:8080/"
        },
        "outputId": "1b18cdbe-3de4-4395-c5a0-db9b23be7dea"
      },
      "outputs": [
        {
          "output_type": "stream",
          "name": "stdout",
          "text": [
            "Original list is: [12, 30, 23, 40, 43]\n",
            "The list after swapping is: [43, 30, 23, 40, 12]\n"
          ]
        }
      ],
      "source": [
        "A_list = [12, 30, 23, 40, 43]\n",
        "print(f\"Original list is: {A_list}\")\n",
        "\n",
        "A_list[0], A_list[-1] = A_list[-1], A_list[0]\n",
        "print(f\"The list after swapping is: {A_list}\")"
      ]
    },
    {
      "cell_type": "markdown",
      "id": "959e0837",
      "metadata": {
        "id": "959e0837"
      },
      "source": [
        "**22-Given a list in Python and provided the positions of the elements, write a program to swap the two elements in the list. (Input : List = [23, 65, 19, 90], pos1 = 1, pos2 = 3\n",
        "Output : [19, 65, 23, 90])"
      ]
    },
    {
      "cell_type": "code",
      "execution_count": 22,
      "id": "225d8c6d",
      "metadata": {
        "id": "225d8c6d",
        "colab": {
          "base_uri": "https://localhost:8080/"
        },
        "outputId": "a4053c39-630c-4f95-ddc7-1e9bcd050799"
      },
      "outputs": [
        {
          "output_type": "stream",
          "name": "stdout",
          "text": [
            "Original list: [23, 65, 19, 90]\n",
            "New list: [19, 65, 23, 90]\n"
          ]
        }
      ],
      "source": [
        "A_list = [23, 65, 19, 90]\n",
        "pos1 = 1\n",
        "pos2 = 3\n",
        "print(f\"Original list: {A_list}\")\n",
        "\n",
        "A_list[pos1-1], A_list[pos2-1] = A_list[pos2-1], A_list[pos1-1]\n",
        "print(f\"New list: {A_list}\")"
      ]
    },
    {
      "cell_type": "markdown",
      "id": "66fc6682",
      "metadata": {
        "id": "66fc6682"
      },
      "source": [
        "**23- search for the all ways to know the length of the list"
      ]
    },
    {
      "cell_type": "code",
      "execution_count": 23,
      "id": "63ff8b43",
      "metadata": {
        "id": "63ff8b43",
        "colab": {
          "base_uri": "https://localhost:8080/"
        },
        "outputId": "6e37d54d-4dd5-45ac-89ce-a906d944c741"
      },
      "outputs": [
        {
          "output_type": "stream",
          "name": "stdout",
          "text": [
            "The original list: [1, 2, 3, 4, 5, 6, 7, 8, 9, 10]\n",
            "The length of list (way1): 10\n",
            "The length of list (way2): 10\n",
            "The length of list (way3): 10\n"
          ]
        }
      ],
      "source": [
        "A_list = [1, 2, 3, 4, 5, 6, 7, 8, 9, 10]\n",
        "count = 0\n",
        "print(f\"The original list: {A_list}\")\n",
        "\n",
        "for i in A_list:\n",
        "    count += 1\n",
        "print(f\"The length of list (way1): {count}\")\n",
        "\n",
        "\n",
        "print(f\"The length of list (way2): {len(A_list)}\")\n",
        "\n",
        "\n",
        "length = sum(1 for i in A_list)\n",
        "print(f\"The length of list (way3): {length}\")"
      ]
    },
    {
      "cell_type": "markdown",
      "source": [
        "**24-write a Python code to find the Maximum number of list of numbers."
      ],
      "metadata": {
        "id": "19X_AfuCoL2H"
      },
      "id": "19X_AfuCoL2H"
    },
    {
      "cell_type": "code",
      "execution_count": 24,
      "id": "15f342de",
      "metadata": {
        "id": "15f342de",
        "colab": {
          "base_uri": "https://localhost:8080/"
        },
        "outputId": "d22f4954-dc4f-49a8-bbaf-29b49b9d3968"
      },
      "outputs": [
        {
          "output_type": "stream",
          "name": "stdout",
          "text": [
            "The max number is: 100\n"
          ]
        }
      ],
      "source": [
        "A_list = [20, 10, 50, 100, 80]\n",
        "max_number = max(A_list)\n",
        "print(f\"The max number is: {max_number}\")"
      ]
    },
    {
      "cell_type": "markdown",
      "source": [
        "**25-write a Python code to find the Minimum number of list of numbers."
      ],
      "metadata": {
        "id": "tiqA1qhmoOfU"
      },
      "id": "tiqA1qhmoOfU"
    },
    {
      "cell_type": "code",
      "execution_count": 25,
      "id": "21f8cbd6",
      "metadata": {
        "id": "21f8cbd6",
        "colab": {
          "base_uri": "https://localhost:8080/"
        },
        "outputId": "c93f8445-b42a-4fdf-c72d-20aa044e9ede"
      },
      "outputs": [
        {
          "output_type": "stream",
          "name": "stdout",
          "text": [
            "The min number is: 10\n"
          ]
        }
      ],
      "source": [
        "A_list = [20, 10, 50, 100, 80]\n",
        "min_number = min(A_list)\n",
        "print(f\"The min number is: {min_number}\")"
      ]
    },
    {
      "cell_type": "markdown",
      "id": "96822d96",
      "metadata": {
        "id": "96822d96"
      },
      "source": [
        "**26-search for if an elem is existing in list"
      ]
    },
    {
      "cell_type": "code",
      "execution_count": 26,
      "id": "51ca5c9a",
      "metadata": {
        "id": "51ca5c9a",
        "colab": {
          "base_uri": "https://localhost:8080/"
        },
        "outputId": "c9879ec9-bbca-4ed4-ca37-4b7d9e67ddbf"
      },
      "outputs": [
        {
          "output_type": "stream",
          "name": "stdout",
          "text": [
            "Yes, your element is found\n"
          ]
        }
      ],
      "source": [
        "A_list = [10, 20, 30, 40]\n",
        "\n",
        "def find_elem(A_list,num):\n",
        "    if num in A_list:\n",
        "        print(\"Yes, your element is found\")\n",
        "    else:\n",
        "        print(\"Sorry, Not found\")\n",
        "\n",
        "find_elem(A_list,30)"
      ]
    },
    {
      "cell_type": "markdown",
      "id": "d9557da7",
      "metadata": {
        "id": "d9557da7"
      },
      "source": [
        "**27- clear python list using different ways"
      ]
    },
    {
      "cell_type": "code",
      "execution_count": 27,
      "id": "b69858a3",
      "metadata": {
        "id": "b69858a3",
        "colab": {
          "base_uri": "https://localhost:8080/"
        },
        "outputId": "e8603aa1-1559-4bbc-8eb4-2ff360159d8d"
      },
      "outputs": [
        {
          "output_type": "stream",
          "name": "stdout",
          "text": [
            "The original list: [10, 20, 30, 40]\n",
            "The result after removing in a way: []\n",
            "The result after removing in another way: []\n"
          ]
        }
      ],
      "source": [
        "A_list = [10, 20, 30, 40]\n",
        "print(f\"The original list: {A_list}\")\n",
        "\n",
        "A_list.clear()\n",
        "print(f\"The result after removing in a way: {A_list}\")\n",
        "\n",
        "del A_list[:]\n",
        "print(f\"The result after removing in another way: {A_list}\")"
      ]
    },
    {
      "cell_type": "markdown",
      "id": "52160e88",
      "metadata": {
        "id": "52160e88"
      },
      "source": [
        "**28-remove duplicated elements from a list"
      ]
    },
    {
      "cell_type": "code",
      "execution_count": 28,
      "id": "5e362228",
      "metadata": {
        "id": "5e362228",
        "colab": {
          "base_uri": "https://localhost:8080/"
        },
        "outputId": "935061c3-5e77-4ab3-cfe8-a345373e1a41"
      },
      "outputs": [
        {
          "output_type": "stream",
          "name": "stdout",
          "text": [
            "The original list: [4, 6, 4, 3, 3, 4, 3, 4, 3, 8]\n",
            "The new list after removing duplicating: [8, 3, 4, 6]\n"
          ]
        }
      ],
      "source": [
        "A_list = [4, 6, 4, 3, 3, 4, 3, 4, 3, 8]\n",
        "new_list = []\n",
        "\n",
        "for i in set(A_list):\n",
        "    new_list.append(i)\n",
        "\n",
        "print(f\"The original list: {A_list}\")\n",
        "print(f\"The new list after removing duplicating: {new_list}\")"
      ]
    },
    {
      "cell_type": "markdown",
      "id": "282337f7",
      "metadata": {
        "id": "282337f7"
      },
      "source": [
        "**29-Given list values and keys list, convert these values to key value pairs in form of list of dictionaries. (Input : test_list = [“Gfg”, 3, “is”, 8], key_list = [“name”, “id”]\n",
        "Output : [{‘name’: ‘Gfg’, ‘id’: 3}, {‘name’: ‘is’, ‘id’: 8}])"
      ]
    },
    {
      "cell_type": "code",
      "execution_count": 29,
      "id": "4d4e2d28",
      "metadata": {
        "id": "4d4e2d28",
        "colab": {
          "base_uri": "https://localhost:8080/"
        },
        "outputId": "cd929147-6f62-4c6e-a593-2e1a7c3a68a1"
      },
      "outputs": [
        {
          "output_type": "stream",
          "name": "stdout",
          "text": [
            "Your result: [{'name': 'Gfg', 'id': 3}, {'name': 'is', 'id': 8}]\n"
          ]
        }
      ],
      "source": [
        "def convert_func(A_list, key_list):\n",
        "    result = []\n",
        "    for i in range(0, len(A_list), len(key_list)):\n",
        "        new_dict = {}\n",
        "        for j in range(len(key_list)):\n",
        "            new_dict[key_list[j]] = A_list[i + j]\n",
        "        result.append(new_dict)\n",
        "    return result\n",
        "\n",
        "A_list = [\"Gfg\", 3, \"is\", 8]\n",
        "key_list = [\"name\", \"id\"]\n",
        "result = convert_func(A_list, key_list)\n",
        "print(f\"Your result: {result}\")"
      ]
    },
    {
      "cell_type": "markdown",
      "id": "c26b6e9f",
      "metadata": {
        "id": "c26b6e9f"
      },
      "source": [
        "**30-write a python program to count unique values inside a list using different ways"
      ]
    },
    {
      "cell_type": "code",
      "execution_count": 30,
      "id": "72132667",
      "metadata": {
        "id": "72132667",
        "colab": {
          "base_uri": "https://localhost:8080/"
        },
        "outputId": "2db97ac6-9dc4-49ae-80c8-ad6a08099710"
      },
      "outputs": [
        {
          "output_type": "stream",
          "name": "stdout",
          "text": [
            "The list of unique values way1: [4, 6, 3, 8]\n",
            "The list of unique values way2: [8, 3, 4, 6]\n"
          ]
        }
      ],
      "source": [
        "# first way\n",
        "def unique_values1(B_list):\n",
        "    dictt = {}\n",
        "    for i in B_list:\n",
        "        if i in dictt:\n",
        "            dictt[i] += 1\n",
        "        else:\n",
        "            dictt[i] = 1\n",
        "    result = dictt.keys()\n",
        "    print(f\"The list of unique values way1: {list(result)}\")\n",
        "\n",
        "B_list = [4, 6, 4, 3, 3, 4, 3, 4, 3, 8]\n",
        "unique_values1(B_list)\n",
        "\n",
        "# second way\n",
        "def unique_values2(B_list):\n",
        "    result = []\n",
        "    for i in set(B_list):\n",
        "        result.append(i)\n",
        "    print(f\"The list of unique values way2: {result}\")\n",
        "\n",
        "unique_values2(B_list)"
      ]
    },
    {
      "cell_type": "markdown",
      "id": "fed6677c",
      "metadata": {
        "id": "fed6677c"
      },
      "source": [
        "**31-write a python program Extract all elements with Frequency greater than K (Input : test_list = [4, 6, 4, 3, 3, 4, 3, 4, 3, 8], K = 3\n",
        "Output : [4, 3] )"
      ]
    },
    {
      "cell_type": "code",
      "execution_count": 31,
      "id": "d81f3f9d",
      "metadata": {
        "id": "d81f3f9d",
        "colab": {
          "base_uri": "https://localhost:8080/"
        },
        "outputId": "e6f10102-965a-4fb9-b5dd-7eca0e5858fe"
      },
      "outputs": [
        {
          "output_type": "stream",
          "name": "stdout",
          "text": [
            "Your result is: [3, 4]\n"
          ]
        }
      ],
      "source": [
        "B_list = [4, 6, 4, 3, 3, 4, 3, 4, 3, 8]\n",
        "k = 3\n",
        "result = []\n",
        "\n",
        "for i in set(B_list):\n",
        "    if B_list.count(i) > k:\n",
        "        result.append(i)\n",
        "\n",
        "print(f\"Your result is: {result}\")"
      ]
    },
    {
      "cell_type": "markdown",
      "id": "caca5224",
      "metadata": {
        "id": "caca5224"
      },
      "source": [
        "**32-write a python program to find the Strongest Neighbour (Input: 1 2 2 3 4 5\n",
        "Output: 2 2 3 4 5)"
      ]
    },
    {
      "cell_type": "code",
      "execution_count": 32,
      "id": "39fbd9b2",
      "metadata": {
        "id": "39fbd9b2",
        "colab": {
          "base_uri": "https://localhost:8080/"
        },
        "outputId": "ba044acd-848e-4c73-f92e-46f3aa7d7056"
      },
      "outputs": [
        {
          "output_type": "stream",
          "name": "stdout",
          "text": [
            "Your list is: [1, 2, 2, 3, 4, 5]\n",
            "The list of strongest Neighbour is: [2, 2, 3, 4, 5]\n",
            "The same result in another way is: [2, 2, 3, 4, 5]\n"
          ]
        }
      ],
      "source": [
        "# first way\n",
        "def find_neighbour(A_list):\n",
        "    new_list = []\n",
        "    for i in range(len(A_list) - 1):\n",
        "        if A_list[i] <= A_list[i+1]:\n",
        "            new_list.append(A_list[i+1])\n",
        "        else:\n",
        "            new_list.append(A_list[i])\n",
        "    print(f\"Your list is: {A_list}\")\n",
        "    print(f\"The list of strongest Neighbour is: {new_list}\")\n",
        "\n",
        "A_list = [1, 2, 2, 3, 4, 5]\n",
        "find_neighbour(A_list)\n",
        "\n",
        "\n",
        "# second way\n",
        "def strongest_neighbour(A_list):\n",
        "    result = []\n",
        "    for i in range(len(A_list) - 1):\n",
        "        result.append(max(A_list[i], A_list[i + 1]))\n",
        "\n",
        "    print(f\"The same result in another way is: {result}\")\n",
        "\n",
        "A_list = [1,2,2,3,4,5]\n",
        "strongest_neighbour(A_list)"
      ]
    },
    {
      "cell_type": "markdown",
      "id": "a9fa8baf",
      "metadata": {
        "id": "a9fa8baf"
      },
      "source": [
        "**33-write a Python Program to print all Possible Combinations from the three Digits (Input: [1, 2, 3]\n",
        "Output:\n",
        "1 2 3 ##\n",
        "1 3 2 ##\n",
        "2 1 3 ##\n",
        "2 3 1 ##\n",
        "3 1 2 ##\n",
        "3 2 1)"
      ]
    },
    {
      "cell_type": "code",
      "execution_count": 33,
      "id": "8c520a76",
      "metadata": {
        "id": "8c520a76",
        "colab": {
          "base_uri": "https://localhost:8080/"
        },
        "outputId": "be502503-0bd4-4654-95dd-c7028e1e4b74"
      },
      "outputs": [
        {
          "output_type": "stream",
          "name": "stdout",
          "text": [
            "The combination result from the 3 digits: [1, 2, 3]\n",
            "(1, 2, 3)\n",
            "(1, 3, 2)\n",
            "(2, 1, 3)\n",
            "(2, 3, 1)\n",
            "(3, 1, 2)\n",
            "(3, 2, 1)\n"
          ]
        }
      ],
      "source": [
        "from itertools import permutations\n",
        "A_list = [1, 2, 3]\n",
        "\n",
        "print(f\"The combination result from the 3 digits: {A_list}\")\n",
        "for i in permutations(A_list,3):\n",
        "    print(i)"
      ]
    },
    {
      "cell_type": "markdown",
      "id": "5288bb89",
      "metadata": {
        "id": "5288bb89"
      },
      "source": [
        "**34-write a Python program to find all the Combinations in the list with the given condition (Input: test_list = [1,2,3]\n",
        "Output:\n",
        " [1], [1, 2], [1, 2, 3], [1, 3]\n",
        " [2], [2, 3], [3])"
      ]
    },
    {
      "cell_type": "code",
      "execution_count": 34,
      "id": "59b89646",
      "metadata": {
        "id": "59b89646",
        "colab": {
          "base_uri": "https://localhost:8080/"
        },
        "outputId": "9d05c63e-0afa-4fea-b377-22daeef04a75"
      },
      "outputs": [
        {
          "output_type": "stream",
          "name": "stdout",
          "text": [
            "Your combination result of [1, 2, 3] are: [(1,), (2,), (3,), (1, 2), (1, 3), (2, 3), (1, 2, 3)]\n"
          ]
        }
      ],
      "source": [
        "from itertools import combinations\n",
        "def find_all_combinations(A_list):\n",
        "    all_combinations = []\n",
        "    for i in range(1, len(A_list) + 1):\n",
        "        combination = combinations(A_list, i)\n",
        "        all_combinations.extend(combination)\n",
        "\n",
        "    print(f\"Your combination result of {A_list} are: {all_combinations}\")\n",
        "\n",
        "A_list = [1, 2, 3]\n",
        "find_all_combinations(A_list)"
      ]
    },
    {
      "cell_type": "markdown",
      "id": "39973705",
      "metadata": {
        "id": "39973705"
      },
      "source": [
        "**35-write a Python program to get all unique combinations of two Lists (List_1 = [\"a\",\"b\"]\n",
        "List_2 = [1,2]\n",
        "Unique_combination = [[('a',1),('b',2)],[('a',2),('b',1)]] )"
      ]
    },
    {
      "cell_type": "code",
      "execution_count": 35,
      "id": "8c4ba22b",
      "metadata": {
        "id": "8c4ba22b",
        "colab": {
          "base_uri": "https://localhost:8080/"
        },
        "outputId": "cf5f52ca-d6b4-4385-f589-18dce55a84d7"
      },
      "outputs": [
        {
          "output_type": "stream",
          "name": "stdout",
          "text": [
            "The result of unique combination: [('a', 1), ('a', 2), ('b', 2), ('b', 1)]\n"
          ]
        }
      ],
      "source": [
        "from itertools import product\n",
        "def get_unique_combinations(list1, list2):\n",
        "    all_combinations = list(product(list1, list2))\n",
        "    unique_combinations = set(all_combinations)\n",
        "\n",
        "    return unique_combinations\n",
        "\n",
        "list1 = ['a', 'b']\n",
        "list2 = [1, 2]\n",
        "\n",
        "combination = get_unique_combinations(list1, list2)\n",
        "\n",
        "result = []\n",
        "for i in combination:\n",
        "    result.append(i)\n",
        "print(f\"The result of unique combination: {result}\")"
      ]
    },
    {
      "cell_type": "markdown",
      "id": "25199af5",
      "metadata": {
        "id": "25199af5"
      },
      "source": [
        "**36-Remove all the occurrences of an element from a list in Python (Input : 1 1 2 3 4 5 1 2 1\n",
        "\n",
        "**Output : 2 3 4 5 2)"
      ]
    },
    {
      "cell_type": "code",
      "execution_count": 36,
      "id": "6dc4c2ba",
      "metadata": {
        "id": "6dc4c2ba",
        "colab": {
          "base_uri": "https://localhost:8080/"
        },
        "outputId": "034c0b24-01bc-4bca-b009-33ab4bbddc03"
      },
      "outputs": [
        {
          "output_type": "stream",
          "name": "stdout",
          "text": [
            "Your original list: [1, 1, 2, 3, 4, 5, 1, 2, 1]\n",
            "Your list after removing occurence of element: [2, 3, 4, 5, 2]\n"
          ]
        }
      ],
      "source": [
        "def removing_occur_elem(B_list, elem):\n",
        "    for i in range(0, len(B_list)):\n",
        "        if elem in B_list:\n",
        "            B_list.remove(elem)\n",
        "\n",
        "    print(f\"Your list after removing occurence of element: {B_list}\")\n",
        "\n",
        "B_list = [1, 1, 2, 3, 4, 5, 1, 2, 1]\n",
        "print(f\"Your original list: {B_list}\")\n",
        "removing_occur_elem(B_list, 1)"
      ]
    },
    {
      "cell_type": "markdown",
      "id": "bf1a3c93",
      "metadata": {
        "id": "bf1a3c93"
      },
      "source": [
        "**37-write a python program to Replace index elements with elements in Other List (The original list 1 is : [‘Gfg’, ‘is’, ‘best’] The original list 2 is : [0, 1, 2, 1, 0, 0, 0, 2, 1, 1, 2, 0] The lists after index elements replacements is : [‘Gfg’, ‘is’, ‘best’, ‘is’, ‘Gfg’, ‘Gfg’, ‘Gfg’, ‘best’, ‘is’, ‘is’, ‘best’, ‘Gfg’])"
      ]
    },
    {
      "cell_type": "code",
      "execution_count": 37,
      "id": "fdd66a71",
      "metadata": {
        "id": "fdd66a71",
        "colab": {
          "base_uri": "https://localhost:8080/"
        },
        "outputId": "b8d24763-228b-44bb-b0c6-f70d7fd821d0"
      },
      "outputs": [
        {
          "output_type": "stream",
          "name": "stdout",
          "text": [
            "The final result: ['Gfg', 'is', 'best', 'is', 'Gfg', 'Gfg', 'Gfg', 'best', 'is', 'is', 'best', 'Gfg']\n"
          ]
        }
      ],
      "source": [
        "list1 = [\"Gfg\", \"is\", \"best\"]\n",
        "list2 = [0, 1, 2, 1, 0, 0, 0, 2, 1, 1, 2, 0]\n",
        "\n",
        "result = [list1[i] for i in list2]\n",
        "print(f\"The final result: {result}\")"
      ]
    },
    {
      "cell_type": "markdown",
      "id": "af0f56e8",
      "metadata": {
        "id": "af0f56e8"
      },
      "source": [
        "**38- write python program to Retain records with N occurrences of K(Input : test_list = [(4, 5, 5, 4), (5, 4, 3)], K = 5, N = 2\n",
        "Output : [(4, 5, 5, 4)]\n",
        "Input : test_list = [(4, 5, 5, 4), (5, 4, 3)], K = 5, N = 3\n",
        "Output : [] )"
      ]
    },
    {
      "cell_type": "code",
      "execution_count": 38,
      "id": "67b06671",
      "metadata": {
        "id": "67b06671",
        "colab": {
          "base_uri": "https://localhost:8080/"
        },
        "outputId": "1b7ba92e-8359-4dbc-afa2-cebbbf072b39"
      },
      "outputs": [
        {
          "output_type": "stream",
          "name": "stdout",
          "text": [
            "Your result in A_list first part: (4, 5, 5, 4)\n"
          ]
        }
      ],
      "source": [
        "def retain_record_nk(A_list, k,n):\n",
        "    B_list = []\n",
        "    first_A = A_list[0]\n",
        "    second_A = A_list[1]\n",
        "    first_count_k = first_A.count(k)\n",
        "    second_count_k = second_A.count(k)\n",
        "\n",
        "    for i in range(len(A_list) - 1):\n",
        "        if first_count_k == n:\n",
        "            print(f\"Your result in A_list first part: {first_A}\")\n",
        "        elif second_count_k == n:\n",
        "            print(f\"Your result in A_list second part: {second_A}\")\n",
        "        else:\n",
        "            print(f\"The empty list {B_list}\")\n",
        "\n",
        "A_list = [(4, 5, 5, 4), (5, 4, 3)]\n",
        "retain_record_nk(A_list, 5, 2)"
      ]
    },
    {
      "cell_type": "markdown",
      "id": "de76f183",
      "metadata": {
        "id": "de76f183"
      },
      "source": [
        "**39-write a Python Program to Sort the list according to the column using lambda\n",
        "array = [[1, 3, 3], [2, 1, 2], [3, 2, 1]]\n",
        "Output :\n",
        "Sorted array specific to column 0, [[1, 3, 3], [2, 1, 2], [3, 2, 1]]\n",
        "Sorted array specific to column 1, [[2, 1, 2], [3, 2, 1], [1, 3, 3]]\n",
        "Sorted array specific to column 2, [[3, 2, 1], [2, 1, 2], [1, 3, 3]]"
      ]
    },
    {
      "cell_type": "code",
      "execution_count": 39,
      "id": "dc883308",
      "metadata": {
        "id": "dc883308",
        "colab": {
          "base_uri": "https://localhost:8080/"
        },
        "outputId": "673216e7-7e23-440d-d20d-cbc18866a712"
      },
      "outputs": [
        {
          "output_type": "stream",
          "name": "stdout",
          "text": [
            "Your sorted array based specific column: [[2, 1, 2], [3, 2, 1], [1, 3, 3]]\n"
          ]
        }
      ],
      "source": [
        "A_array = [[1,3,3],\n",
        "           [2,1,2],\n",
        "           [3,2,1]]\n",
        "\n",
        "# columns 0 , 1 , 2\n",
        "A_array.sort(key = lambda x: (x[1], x[0]))\n",
        "print(f\"Your sorted array based specific column: {A_array}\")"
      ]
    },
    {
      "cell_type": "markdown",
      "source": [
        "**40- write a program to Sort Python Dictionaries by Key or Value\n",
        "Input:\n",
        "{'ravi': 10, 'rajnish': 9, 'sanjeev': 15, 'yash': 2, 'suraj': 32}\n",
        "\n",
        "Output:\n",
        "{'rajnish': 9, 'ravi': 10, 'sanjeev': 15, 'suraj': 32, 'yash': 2}"
      ],
      "metadata": {
        "id": "WiRG_l1vqCLH"
      },
      "id": "WiRG_l1vqCLH"
    },
    {
      "cell_type": "code",
      "execution_count": 40,
      "id": "d2e7b31f",
      "metadata": {
        "id": "d2e7b31f",
        "colab": {
          "base_uri": "https://localhost:8080/"
        },
        "outputId": "29c6598a-e0f5-41fa-8ecf-7caee50a89d9"
      },
      "outputs": [
        {
          "output_type": "stream",
          "name": "stdout",
          "text": [
            "The original dict: {'ravi': 10, 'rajnish': 9, 'sanjeev': 15, 'yash': 2, 'suraj': 32}\n",
            "The result after sorting: {'rajnish': 9, 'ravi': 10, 'sanjeev': 15, 'suraj': 32, 'yash': 2}\n"
          ]
        }
      ],
      "source": [
        "original = {'ravi': 10, 'rajnish': 9, 'sanjeev': 15, 'yash': 2, 'suraj': 32}\n",
        "print(f\"The original dict: {original}\")\n",
        "result = dict(sorted(original.items()))\n",
        "print(f\"The result after sorting: {result}\")"
      ]
    },
    {
      "cell_type": "markdown",
      "id": "ec63c23a",
      "metadata": {
        "id": "ec63c23a"
      },
      "source": [
        "**41-write python program to Remove keys with Values Greater than K ( Including mixed values )\n",
        "nput : test_dict = {‘Gfg’ : 3, ‘is’ : 7, ‘best’ : 10, ‘for’ : 6, ‘geeks’ : ‘CS’},\n",
        "K = 7\n",
        "Output : {‘Gfg’ : 3, ‘for’ : 6, ‘geeks’ : ‘CS’}"
      ]
    },
    {
      "cell_type": "code",
      "execution_count": 41,
      "id": "e39c3a40",
      "metadata": {
        "id": "e39c3a40",
        "colab": {
          "base_uri": "https://localhost:8080/"
        },
        "outputId": "3fc5f9de-12cc-452f-f180-c18d973d30c7"
      },
      "outputs": [
        {
          "output_type": "stream",
          "name": "stdout",
          "text": [
            "Enter value of k: 7\n",
            "Original dictionary: {'a': 1, 'b': 20, 'c': 3, 'd': 4, 'e': 19}\n",
            "The result: {'a': 1, 'c': 3, 'd': 4}\n"
          ]
        }
      ],
      "source": [
        "A_dict = {'a': 1, 'b': 20, 'c': 3, 'd': 4, 'e': 19}\n",
        "k = int(input(\"Enter value of k: \"))\n",
        "\n",
        "print(f\"Original dictionary: {A_dict}\")\n",
        "\n",
        "A_dict = {key:value for (key,value) in A_dict.items() if value < k}\n",
        "print(f\"The result: {A_dict}\")"
      ]
    },
    {
      "cell_type": "markdown",
      "id": "f143f0fe",
      "metadata": {
        "id": "f143f0fe"
      },
      "source": [
        "**42-Write a Python program to concatenate the following dictionaries to create a new one\n",
        "\n",
        "Sample Dictionary :\n",
        "dic1={1:10, 2:20}\n",
        "dic2={3:30, 4:40}\n",
        "dic3={5:50,6:60}\n",
        "Expected Result : {1: 10, 2: 20, 3: 30, 4: 40, 5: 50, 6: 60}"
      ]
    },
    {
      "cell_type": "code",
      "execution_count": 42,
      "id": "74ffdfea",
      "metadata": {
        "id": "74ffdfea",
        "colab": {
          "base_uri": "https://localhost:8080/"
        },
        "outputId": "9177fbb3-34ac-4022-9e16-4c76b9732620"
      },
      "outputs": [
        {
          "output_type": "stream",
          "name": "stdout",
          "text": [
            "The result is: {1: 10, 2: 20, 3: 30, 4: 40, 5: 50, 6: 60}\n"
          ]
        }
      ],
      "source": [
        "dict1 = {1:10, 2:20}\n",
        "dict2={3:30, 4:40}\n",
        "dict3={5:50,6:60}\n",
        "\n",
        "dict1.update(dict2)\n",
        "dict1.update(dict3)\n",
        "\n",
        "print(f\"The result is: {dict1}\")"
      ]
    },
    {
      "cell_type": "markdown",
      "id": "fb04c93c",
      "metadata": {
        "id": "fb04c93c"
      },
      "source": [
        "**43-Write a Python program to iterate over dictionaries using for loops"
      ]
    },
    {
      "cell_type": "code",
      "execution_count": 43,
      "id": "6aebc470",
      "metadata": {
        "id": "6aebc470",
        "colab": {
          "base_uri": "https://localhost:8080/"
        },
        "outputId": "978f7e73-ed12-4e2a-ae32-6f73a870aef7"
      },
      "outputs": [
        {
          "output_type": "stream",
          "name": "stdout",
          "text": [
            "Iteration over Keys: \n",
            "1\n",
            "2\n",
            "3\n",
            "4\n",
            "5\n",
            "6\n",
            "-------------------\n",
            "Iteration over values: \n",
            "10\n",
            "20\n",
            "30\n",
            "40\n",
            "50\n",
            "60\n",
            "-------------------\n",
            "Iteration over Keys-values: \n",
            "1 ==> 10\n",
            "2 ==> 20\n",
            "3 ==> 30\n",
            "4 ==> 40\n",
            "5 ==> 50\n",
            "6 ==> 60\n"
          ]
        }
      ],
      "source": [
        "A_dict = {1: 10, 2: 20, 3: 30, 4: 40, 5: 50, 6: 60}\n",
        "\n",
        "# loop over keys\n",
        "print(\"Iteration over Keys: \")\n",
        "for k in A_dict.keys():\n",
        "    print(k)\n",
        "print('-------------------')\n",
        "\n",
        "# loop over values\n",
        "print(\"Iteration over values: \")\n",
        "for v in A_dict.values():\n",
        "    print(v)\n",
        "print('-------------------')\n",
        "\n",
        "# loop over keys, values\n",
        "print(\"Iteration over Keys-values: \")\n",
        "for k,v in A_dict.items():\n",
        "    print(f\"{k} ==> {v}\")"
      ]
    },
    {
      "cell_type": "markdown",
      "id": "5f491a9d",
      "metadata": {
        "id": "5f491a9d"
      },
      "source": [
        "**44- Write a Python script to merge two Python dictionaries"
      ]
    },
    {
      "cell_type": "code",
      "execution_count": 44,
      "id": "b8a14028",
      "metadata": {
        "id": "b8a14028",
        "colab": {
          "base_uri": "https://localhost:8080/"
        },
        "outputId": "0f2f4298-9b24-474e-8e12-8a200812b3de"
      },
      "outputs": [
        {
          "output_type": "stream",
          "name": "stdout",
          "text": [
            "dict1: {'a': 1, 'b': 2}\n",
            "dict2: {'c': 3, 'd': 4}\n",
            "The result is: {'a': 1, 'b': 2, 'c': 3, 'd': 4}\n"
          ]
        }
      ],
      "source": [
        "dict1 = {'a': 1, 'b': 2}\n",
        "dict2 = {'c': 3, 'd': 4}\n",
        "\n",
        "print(f\"dict1: {dict1}\")\n",
        "print(f\"dict2: {dict2}\")\n",
        "\n",
        "dict1.update(dict2)\n",
        "print(f\"The result is: {dict1}\")"
      ]
    },
    {
      "cell_type": "markdown",
      "id": "216fc72d",
      "metadata": {
        "id": "216fc72d"
      },
      "source": [
        "**45-Write a Python program to get the maximum and minimum values of a dictionary values"
      ]
    },
    {
      "cell_type": "code",
      "execution_count": 45,
      "id": "d6883f5f",
      "metadata": {
        "id": "d6883f5f",
        "colab": {
          "base_uri": "https://localhost:8080/"
        },
        "outputId": "204d4043-3c4e-4d22-845a-c6c022d5ee7a"
      },
      "outputs": [
        {
          "output_type": "stream",
          "name": "stdout",
          "text": [
            "The max values is: 4\n",
            "The min values is: 1\n"
          ]
        }
      ],
      "source": [
        "A_dict = {'a': 1, 'b': 2, 'c': 3, 'd': 4}\n",
        "\n",
        "min_value = min(A_dict.values())\n",
        "max_value = max(A_dict.values())\n",
        "\n",
        "print(f\"The max values is: {max_value}\")\n",
        "print(f\"The min values is: {min_value}\")"
      ]
    },
    {
      "cell_type": "markdown",
      "id": "b6a53011",
      "metadata": {
        "id": "b6a53011"
      },
      "source": [
        "**46- Write a Python program to drop empty items from a given dictionary.\n",
        "Original Dictionary:\n",
        "{'c1': 'Red', 'c2': 'Green', 'c3': None}\n",
        "New Dictionary after dropping empty items:\n",
        "{'c1': 'Red', 'c2': 'Green'}"
      ]
    },
    {
      "cell_type": "code",
      "execution_count": 46,
      "id": "b5c6fecf",
      "metadata": {
        "id": "b5c6fecf",
        "colab": {
          "base_uri": "https://localhost:8080/"
        },
        "outputId": "8dbe88db-9b80-4f0b-b8b1-f6f5fb17d6d7"
      },
      "outputs": [
        {
          "output_type": "stream",
          "name": "stdout",
          "text": [
            "The original dictionary: {'c1': 'Red', 'c2': 'Green', 'c3': None}\n",
            "New dictionary: {'c1': 'Red', 'c2': 'Green'}\n"
          ]
        }
      ],
      "source": [
        "A_dict = {'c1': 'Red', 'c2': 'Green', 'c3': None}\n",
        "print(f\"The original dictionary: {A_dict}\")\n",
        "\n",
        "A_dict = {key:value for (key,value) in A_dict.items() if value is not None}\n",
        "print(f\"New dictionary: {A_dict}\")"
      ]
    },
    {
      "cell_type": "markdown",
      "id": "46d718c7",
      "metadata": {
        "id": "46d718c7"
      },
      "source": [
        "**47-Write a Python program to create a tuple of numbers and print one item"
      ]
    },
    {
      "cell_type": "code",
      "execution_count": 47,
      "id": "13216ff5",
      "metadata": {
        "id": "13216ff5",
        "colab": {
          "base_uri": "https://localhost:8080/"
        },
        "outputId": "dc5521aa-955e-4a2f-b7d6-9c2980270a93"
      },
      "outputs": [
        {
          "output_type": "stream",
          "name": "stdout",
          "text": [
            "Enter index: 2\n",
            "Result is: 3\n"
          ]
        }
      ],
      "source": [
        "A_tuple = (1, 2, 3, 4)\n",
        "i = int(input(\"Enter index: \"))\n",
        "print(f\"Result is: {A_tuple[i]}\")"
      ]
    },
    {
      "cell_type": "markdown",
      "id": "2be5b56b",
      "metadata": {
        "id": "2be5b56b"
      },
      "source": [
        "**48-Write a Python program to unpack a tuple into several variables"
      ]
    },
    {
      "cell_type": "code",
      "execution_count": 48,
      "id": "595f44be",
      "metadata": {
        "id": "595f44be",
        "colab": {
          "base_uri": "https://localhost:8080/"
        },
        "outputId": "ae357085-d6a4-42dd-9f83-242c47152194"
      },
      "outputs": [
        {
          "output_type": "stream",
          "name": "stdout",
          "text": [
            "Original tuple is: (1, 2, 3)\n",
            "First variable is: 1\n",
            "Second variable is: 2\n",
            "Third variable is: 3\n"
          ]
        }
      ],
      "source": [
        "A_tuple = (1, 2, 3)\n",
        "print(f\"Original tuple is: {A_tuple}\")\n",
        "\n",
        "num1, num2, num3 = A_tuple\n",
        "print(f\"First variable is: {num1}\")\n",
        "print(f\"Second variable is: {num2}\")\n",
        "print(f\"Third variable is: {num3}\")"
      ]
    },
    {
      "cell_type": "markdown",
      "id": "392388a7",
      "metadata": {
        "id": "392388a7"
      },
      "source": [
        "**49-Write a Python program to add an item to a tuple"
      ]
    },
    {
      "cell_type": "code",
      "execution_count": 49,
      "id": "54cc092e",
      "metadata": {
        "id": "54cc092e",
        "colab": {
          "base_uri": "https://localhost:8080/"
        },
        "outputId": "d3425942-e3bd-49d8-b9f7-73077df80fe5"
      },
      "outputs": [
        {
          "output_type": "stream",
          "name": "stdout",
          "text": [
            "Your original tuple: (4, 5, 6, 7, 8)\n",
            "The new tuple after addition: (4, 5, 6, 7, 8, 10)\n"
          ]
        }
      ],
      "source": [
        "A_tuple = (4, 5, 6, 7, 8)\n",
        "new_item = 10\n",
        "\n",
        "print(f\"Your original tuple: {A_tuple}\")\n",
        "\n",
        "new_A_tuple = list(A_tuple)\n",
        "new_A_tuple.append(new_item)\n",
        "A_tuple = tuple(new_A_tuple)\n",
        "\n",
        "print(f\"The new tuple after addition: {A_tuple}\")"
      ]
    },
    {
      "cell_type": "markdown",
      "id": "3e8fd124",
      "metadata": {
        "id": "3e8fd124"
      },
      "source": [
        "**50-Write a Python program to convert a tuple to a string"
      ]
    },
    {
      "cell_type": "code",
      "execution_count": 50,
      "id": "92a71ddc",
      "metadata": {
        "id": "92a71ddc",
        "colab": {
          "base_uri": "https://localhost:8080/"
        },
        "outputId": "13d7ac59-6958-4d25-f6c1-f24be0118315"
      },
      "outputs": [
        {
          "output_type": "stream",
          "name": "stdout",
          "text": [
            "The result is: (1, 2, 3)\n",
            "The type of the result: <class 'str'>\n"
          ]
        }
      ],
      "source": [
        "A_tuple = (1,2,3)\n",
        "\n",
        "result = str(A_tuple)\n",
        "print(f\"The result is: {result}\")\n",
        "print(f\"The type of the result: {type(result)}\")"
      ]
    },
    {
      "cell_type": "markdown",
      "id": "f4f64ef4",
      "metadata": {
        "id": "f4f64ef4"
      },
      "source": [
        "**51-Write a Python program to convert a list to a tuple"
      ]
    },
    {
      "cell_type": "code",
      "execution_count": 51,
      "id": "210d56d3",
      "metadata": {
        "id": "210d56d3",
        "colab": {
          "base_uri": "https://localhost:8080/"
        },
        "outputId": "d0969196-5cc5-4d5b-d9c9-18cedff6882a"
      },
      "outputs": [
        {
          "output_type": "stream",
          "name": "stdout",
          "text": [
            "Your B_list: [1, 2, 3, 4, 5, 6]\n",
            "Your B_tuple: (1, 2, 3, 4, 5, 6)\n"
          ]
        }
      ],
      "source": [
        "B_list = [1, 2, 3, 4, 5, 6]\n",
        "print(f\"Your B_list: {B_list}\")\n",
        "\n",
        "B_tuple = tuple(B_list)\n",
        "print(f\"Your B_tuple: {B_tuple}\")"
      ]
    },
    {
      "cell_type": "markdown",
      "id": "b1e00ef7",
      "metadata": {
        "id": "b1e00ef7"
      },
      "source": [
        "**52-Write a Python program to reverse a tuple"
      ]
    },
    {
      "cell_type": "code",
      "execution_count": 52,
      "id": "f45bfdc7",
      "metadata": {
        "id": "f45bfdc7",
        "colab": {
          "base_uri": "https://localhost:8080/"
        },
        "outputId": "93bb5a9e-dfe8-4362-ecaf-c9d32db9ee4d"
      },
      "outputs": [
        {
          "output_type": "stream",
          "name": "stdout",
          "text": [
            "Your original tuple: (1, 2, 3)\n",
            "The reversed tuple: (3, 2, 1)\n"
          ]
        }
      ],
      "source": [
        "A_tuple = (1,2,3)\n",
        "A_list = list(A_tuple)\n",
        "print(f\"Your original tuple: {A_tuple}\")\n",
        "\n",
        "reversed = A_list[-1::-1]\n",
        "A_tuple = tuple(reversed)\n",
        "\n",
        "print(f\"The reversed tuple: {A_tuple}\")"
      ]
    },
    {
      "cell_type": "markdown",
      "id": "3cd347d1",
      "metadata": {
        "id": "3cd347d1"
      },
      "source": [
        "**53-Write a Python program to replace the last value of tuples in a list.\n",
        "Sample list: [(10, 20, 40), (40, 50, 60), (70, 80, 90)]\n",
        "Expected Output: [(10, 20, 100), (40, 50, 100), (70, 80, 100)]"
      ]
    },
    {
      "cell_type": "code",
      "execution_count": 53,
      "id": "3c4a2a4c",
      "metadata": {
        "id": "3c4a2a4c",
        "colab": {
          "base_uri": "https://localhost:8080/"
        },
        "outputId": "028b5845-9f24-4624-b6ac-4d08d2fb18d9"
      },
      "outputs": [
        {
          "output_type": "stream",
          "name": "stdout",
          "text": [
            "The original T_list is: [(10, 20, 40), (40, 50, 60), (70, 80, 90)]\n",
            "The new result is: [(10, 20, 100), (40, 50, 100), (70, 80, 100)]\n"
          ]
        }
      ],
      "source": [
        "T_list = [(10, 20, 40), (40, 50, 60), (70, 80, 90)]\n",
        "print(f\"The original T_list is: {T_list}\")\n",
        "\n",
        "def replace_func(T_list, value):\n",
        "    for i in T_list:\n",
        "        result = [i[:-1] + (value,) for i in T_list]\n",
        "    print(f\"The new result is: {result}\")\n",
        "\n",
        "replace_func(T_list, 100)"
      ]
    },
    {
      "cell_type": "markdown",
      "id": "76bb7b39",
      "metadata": {
        "id": "76bb7b39"
      },
      "source": [
        "**54-Write a Python program to convert a given string list to a tuple\n",
        "Original string: python 3.0\n",
        "<class 'str'>\n",
        "Convert the said string to a tuple:\n",
        "('p', 'y', 't', 'h', 'o', 'n', '3', '.', '0')"
      ]
    },
    {
      "cell_type": "code",
      "execution_count": 54,
      "id": "51951937",
      "metadata": {
        "id": "51951937",
        "colab": {
          "base_uri": "https://localhost:8080/"
        },
        "outputId": "caa0d975-af7f-47c2-e51c-2ede17c4b4a8"
      },
      "outputs": [
        {
          "output_type": "stream",
          "name": "stdout",
          "text": [
            "Your result of convertion string to tuple is: ('p', 'y', 't', 'h', 'o', 'n', ' ', '3', '.', '0')\n"
          ]
        }
      ],
      "source": [
        "string = \"python 3.0\"\n",
        "\n",
        "new_tuple = tuple(string)\n",
        "print(f\"Your result of convertion string to tuple is: {new_tuple}\")"
      ]
    },
    {
      "cell_type": "markdown",
      "id": "5a1d5d97",
      "metadata": {
        "id": "5a1d5d97"
      },
      "source": [
        "**55-Write a Python program to calculate the average value of the numbers in a given tuple of tuples"
      ]
    },
    {
      "cell_type": "code",
      "execution_count": 55,
      "id": "834e7992",
      "metadata": {
        "id": "834e7992",
        "colab": {
          "base_uri": "https://localhost:8080/"
        },
        "outputId": "059d1ff2-4152-46e7-ea31-86df5022b7a1"
      },
      "outputs": [
        {
          "output_type": "stream",
          "name": "stdout",
          "text": [
            "Your average result is: 5.0\n"
          ]
        }
      ],
      "source": [
        "def calc_avg(B_tuple):\n",
        "    summ = 0\n",
        "    length = 0\n",
        "    for i in B_tuple:\n",
        "        summ += sum(i)\n",
        "        length += len(i)\n",
        "    result = summ / length\n",
        "    print(f\"Your average result is: {result}\")\n",
        "\n",
        "B_tuple = ((1,2,3), (4,5,6), (7,8,9))\n",
        "calc_avg(B_tuple)"
      ]
    },
    {
      "cell_type": "markdown",
      "id": "51edab9c",
      "metadata": {
        "id": "51edab9c"
      },
      "source": [
        "**56-Write a Python program to add member(s) to a set."
      ]
    },
    {
      "cell_type": "code",
      "execution_count": 56,
      "id": "2b65df79",
      "metadata": {
        "id": "2b65df79",
        "colab": {
          "base_uri": "https://localhost:8080/"
        },
        "outputId": "c2e65746-9a17-4b0c-a282-0f10ea41007d"
      },
      "outputs": [
        {
          "output_type": "stream",
          "name": "stdout",
          "text": [
            "Original set is: {1, 2, 3}\n",
            "Your set after addition is: {1, 2, 3, 6, 10}\n"
          ]
        }
      ],
      "source": [
        "A_set = {1, 2, 3}\n",
        "print(f\"Original set is: {A_set}\")\n",
        "\n",
        "A_set.add(10)\n",
        "A_set.add(6)\n",
        "\n",
        "print(f\"Your set after addition is: {A_set}\")"
      ]
    },
    {
      "cell_type": "markdown",
      "id": "965590cc",
      "metadata": {
        "id": "965590cc"
      },
      "source": [
        "**57-Write a Python program to remove an item from a set if it is present in the set."
      ]
    },
    {
      "cell_type": "code",
      "execution_count": 57,
      "id": "866bab28",
      "metadata": {
        "id": "866bab28",
        "colab": {
          "base_uri": "https://localhost:8080/"
        },
        "outputId": "d0cbeea2-8269-4fa7-e06d-33b21ae23300"
      },
      "outputs": [
        {
          "output_type": "stream",
          "name": "stdout",
          "text": [
            "Original set is: {1, 2, 3}\n",
            "New set after removing element is: {1, 3}\n"
          ]
        }
      ],
      "source": [
        "def remove_funv(A_set, elem):\n",
        "    if elem in A_set:\n",
        "        A_set.remove(elem)\n",
        "    return A_set\n",
        "\n",
        "A_set = {1,2,3}\n",
        "print(f\"Original set is: {A_set}\")\n",
        "\n",
        "print(f\"New set after removing element is: {remove_funv(A_set, 2)}\")"
      ]
    },
    {
      "cell_type": "markdown",
      "id": "2b7cfed1",
      "metadata": {
        "id": "2b7cfed1"
      },
      "source": [
        "**58-Write a Python program to create an intersection,union,difference and symmetric difference of sets"
      ]
    },
    {
      "cell_type": "code",
      "execution_count": 58,
      "id": "7f94b7fe",
      "metadata": {
        "id": "7f94b7fe",
        "colab": {
          "base_uri": "https://localhost:8080/"
        },
        "outputId": "9e5e53f4-bbbb-4509-9229-051dfe4cc768"
      },
      "outputs": [
        {
          "output_type": "stream",
          "name": "stdout",
          "text": [
            "The result of union is: {1, 2, 3, 4, 5, 6, 7, 8}\n",
            "The result of intersection is: {2, 3}\n",
            "The result of difference (A - B) is: {1}\n",
            "The result of difference (B - A) is: {4, 5, 6, 7, 8}\n",
            "The result of symmetric difference is: {1, 4, 5, 6, 7, 8}\n"
          ]
        }
      ],
      "source": [
        "A_set = {1, 2, 3}\n",
        "B_set = {4, 5, 6, 7, 8, 3, 2}\n",
        "\n",
        "C_set = A_set | B_set\n",
        "print(f\"The result of union is: {C_set}\")\n",
        "\n",
        "D_set = A_set & B_set\n",
        "print(f\"The result of intersection is: {D_set}\")\n",
        "\n",
        "E_set = A_set - B_set\n",
        "print(f\"The result of difference (A - B) is: {E_set}\")\n",
        "\n",
        "F_set = B_set - A_set\n",
        "print(f\"The result of difference (B - A) is: {F_set}\")\n",
        "\n",
        "G_set = A_set ^ B_set\n",
        "print(f\"The result of symmetric difference is: {G_set}\")"
      ]
    },
    {
      "cell_type": "markdown",
      "id": "b94931e2",
      "metadata": {
        "id": "b94931e2"
      },
      "source": [
        "**59-Write a Python program to find the maximum and minimum values in a set"
      ]
    },
    {
      "cell_type": "code",
      "execution_count": 59,
      "id": "203f9600",
      "metadata": {
        "id": "203f9600",
        "colab": {
          "base_uri": "https://localhost:8080/"
        },
        "outputId": "7a0b4600-dc2c-4bee-f3c9-4cd876ccf6ba"
      },
      "outputs": [
        {
          "output_type": "stream",
          "name": "stdout",
          "text": [
            "The max value is: 8\n",
            "The min value is: 1\n"
          ]
        }
      ],
      "source": [
        "B_set = {1, 2, 3, 4, 5, 6, 7, 8}\n",
        "\n",
        "max_res = max(B_set)\n",
        "min_res = min(B_set)\n",
        "\n",
        "print(f\"The max value is: {max_res}\")\n",
        "print(f\"The min value is: {min_res}\")"
      ]
    },
    {
      "cell_type": "markdown",
      "id": "255fd554",
      "metadata": {
        "id": "255fd554"
      },
      "source": [
        "**60- Write a Python program that finds all pairs of elements in a list whose sum is equal to a given value."
      ]
    },
    {
      "cell_type": "code",
      "execution_count": 60,
      "id": "c2d94e1f",
      "metadata": {
        "id": "c2d94e1f",
        "colab": {
          "base_uri": "https://localhost:8080/"
        },
        "outputId": "4edc3eee-bce0-478b-fccf-8f4a38cdcb7f"
      },
      "outputs": [
        {
          "output_type": "stream",
          "name": "stdout",
          "text": [
            "The result is: [(5, 17), (10, 12)]\n"
          ]
        }
      ],
      "source": [
        "def find_elem_sum(B_list, sum):\n",
        "    result = []\n",
        "    while B_list:\n",
        "        num = B_list.pop()\n",
        "        diff = sum - num\n",
        "        if diff in B_list:\n",
        "            result.append((diff,num))\n",
        "    return result\n",
        "\n",
        "\n",
        "B_list = [10, 12, 30, 23, 5, 17]\n",
        "sum = 22\n",
        "print(f\"The result is: {find_elem_sum(B_list, sum)}\")"
      ]
    },
    {
      "cell_type": "code",
      "source": [
        "\n"
      ],
      "metadata": {
        "id": "LTyD0z70PSUT"
      },
      "id": "LTyD0z70PSUT",
      "execution_count": null,
      "outputs": []
    }
  ],
  "metadata": {
    "kernelspec": {
      "display_name": "Python 3 (ipykernel)",
      "language": "python",
      "name": "python3"
    },
    "language_info": {
      "codemirror_mode": {
        "name": "ipython",
        "version": 3
      },
      "file_extension": ".py",
      "mimetype": "text/x-python",
      "name": "python",
      "nbconvert_exporter": "python",
      "pygments_lexer": "ipython3",
      "version": "3.9.7"
    },
    "colab": {
      "provenance": []
    }
  },
  "nbformat": 4,
  "nbformat_minor": 5
}