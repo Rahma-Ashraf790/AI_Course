{
  "nbformat": 4,
  "nbformat_minor": 0,
  "metadata": {
    "colab": {
      "provenance": []
    },
    "kernelspec": {
      "name": "python3",
      "display_name": "Python 3"
    },
    "language_info": {
      "name": "python"
    }
  },
  "cells": [
    {
      "cell_type": "code",
      "execution_count": null,
      "metadata": {
        "id": "3NuPgywVVT-X"
      },
      "outputs": [],
      "source": []
    },
    {
      "cell_type": "markdown",
      "source": [
        "## **1- Write a Python program to find the area of a triangle**"
      ],
      "metadata": {
        "id": "yGQ0PxZIWP0v"
      }
    },
    {
      "cell_type": "code",
      "source": [
        "# height and base are constant values\n",
        "\n",
        "height = 6\n",
        "base = 10\n",
        "triangle_area = 0.5 * base * height\n",
        "print(f\"The Area is : {triangle_area}\")"
      ],
      "metadata": {
        "id": "fVEa_BPoWYPd",
        "colab": {
          "base_uri": "https://localhost:8080/"
        },
        "outputId": "509f8dc1-bfa8-4748-8c47-cce13cf5f95a"
      },
      "execution_count": 1,
      "outputs": [
        {
          "output_type": "stream",
          "name": "stdout",
          "text": [
            "The Area is : 30.0\n"
          ]
        }
      ]
    },
    {
      "cell_type": "markdown",
      "source": [
        "# **2- Write a Python program to swap two variables.**\n"
      ],
      "metadata": {
        "id": "3DD6RrL1Wa65"
      }
    },
    {
      "cell_type": "code",
      "source": [
        "# swap_var is a variable used to swap a , b\n",
        "\n",
        "a = 12\n",
        "b = 13\n",
        "\n",
        "swap_var = a\n",
        "a = b\n",
        "b = swap_var\n",
        "\n",
        "print(f\"Value of a is : {a} \")\n",
        "print(f\"Value of b is : {b} \")"
      ],
      "metadata": {
        "id": "8A-qk-XGWmrK",
        "colab": {
          "base_uri": "https://localhost:8080/"
        },
        "outputId": "d43c16f3-904c-4d8c-ff42-5e1b9d2115d2"
      },
      "execution_count": 2,
      "outputs": [
        {
          "output_type": "stream",
          "name": "stdout",
          "text": [
            "Value of a is : 13 \n",
            "Value of b is : 12 \n"
          ]
        }
      ]
    },
    {
      "cell_type": "markdown",
      "source": [
        "# **3-Write a Python program to enter a number from user and convert this number from kilometers to miles.**\n"
      ],
      "metadata": {
        "id": "NXzXheUIXDEf"
      }
    },
    {
      "cell_type": "code",
      "source": [
        "# miles = kilometers * 0.621371\n",
        "\n",
        "number = float(input(\"Enter a number(km) : \"))\n",
        "converted_number = number * 0.621371\n",
        "print(f\"The result of convertion is : {converted_number} miles\")"
      ],
      "metadata": {
        "id": "-hO2ACQCX8xA",
        "colab": {
          "base_uri": "https://localhost:8080/"
        },
        "outputId": "3ff142cd-99da-465e-da57-b8282904ba55"
      },
      "execution_count": 3,
      "outputs": [
        {
          "output_type": "stream",
          "name": "stdout",
          "text": [
            "Enter a number(km) : 320\n",
            "The result of convertion is : 198.83872 miles\n"
          ]
        }
      ]
    },
    {
      "cell_type": "code",
      "source": [],
      "metadata": {
        "id": "H3S7Ag6sSXJ-"
      },
      "execution_count": null,
      "outputs": []
    }
  ]
}