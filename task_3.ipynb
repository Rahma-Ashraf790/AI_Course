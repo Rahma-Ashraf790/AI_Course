{
  "cells": [
    {
      "cell_type": "markdown",
      "id": "ff38aad7",
      "metadata": {
        "id": "ff38aad7"
      },
      "source": [
        "### 1-Write a Python program that takes two numbers as user input and performs addition on them."
      ]
    },
    {
      "cell_type": "code",
      "execution_count": 1,
      "id": "91696b79",
      "metadata": {
        "id": "91696b79",
        "outputId": "650f41c5-cbe0-4cbb-8110-7a9bd7067122",
        "colab": {
          "base_uri": "https://localhost:8080/"
        }
      },
      "outputs": [
        {
          "output_type": "stream",
          "name": "stdout",
          "text": [
            "Enter the first number: 11\n",
            "Enter the second number: 12\n",
            "The result of addition is: 23 \n"
          ]
        }
      ],
      "source": [
        "number1 = int(input(\"Enter the first number: \"))\n",
        "number2 = int(input(\"Enter the second number: \"))\n",
        "\n",
        "sum_result = number1 + number2\n",
        "print(f\"The result of addition is: {sum_result} \")"
      ]
    },
    {
      "cell_type": "markdown",
      "id": "360854ff",
      "metadata": {
        "id": "360854ff"
      },
      "source": [
        "### 2-Write a Python program that takes an integer as input and checks if it is even or odd. Print \"Even\" if the number is divisible by 2, otherwise print \"Odd\"."
      ]
    },
    {
      "cell_type": "code",
      "execution_count": 2,
      "id": "ee4c35fe",
      "metadata": {
        "ExecuteTime": {
          "end_time": "2023-07-23T21:35:24.351946Z",
          "start_time": "2023-07-23T21:35:23.287212Z"
        },
        "id": "ee4c35fe",
        "outputId": "2cb3cdf0-fea2-4b98-8d4b-b4a222d31620",
        "colab": {
          "base_uri": "https://localhost:8080/"
        }
      },
      "outputs": [
        {
          "output_type": "stream",
          "name": "stdout",
          "text": [
            "Enter number: 13\n",
            "number 13 is odd\n"
          ]
        }
      ],
      "source": [
        "number = int(input(\"Enter number: \"))\n",
        "\n",
        "if number % 2 == 0:\n",
        "    print(f\"number {number} is even\")\n",
        "else:\n",
        "    print(f\"number {number} is odd\")"
      ]
    },
    {
      "cell_type": "markdown",
      "id": "6ea0354c",
      "metadata": {
        "id": "6ea0354c"
      },
      "source": [
        "### 3-Write a Python program that prints all the even numbers from 1 to 20 using a for loop"
      ]
    },
    {
      "cell_type": "code",
      "execution_count": 3,
      "id": "df43b7f5",
      "metadata": {
        "ExecuteTime": {
          "end_time": "2023-07-23T21:36:51.373589Z",
          "start_time": "2023-07-23T21:36:51.365580Z"
        },
        "id": "df43b7f5",
        "outputId": "c65c1bb4-bc99-4e7a-fbf5-f6771d245f22",
        "colab": {
          "base_uri": "https://localhost:8080/"
        }
      },
      "outputs": [
        {
          "output_type": "stream",
          "name": "stdout",
          "text": [
            "Even numbers:\n",
            "0 2 4 6 8 10 12 14 16 18 20 "
          ]
        }
      ],
      "source": [
        "print(\"Even numbers:\")\n",
        "for n in range(21):\n",
        "    if n % 2 == 0:\n",
        "        print(n , end=' ')\n",
        "    else:\n",
        "        continue"
      ]
    },
    {
      "cell_type": "markdown",
      "id": "2d66bab2",
      "metadata": {
        "id": "2d66bab2"
      },
      "source": [
        "### 4-Write a Python function that takes a string as input and counts the number of vowels (a, e, i, o, u) in the string. The function should return the count"
      ]
    },
    {
      "cell_type": "code",
      "execution_count": 4,
      "id": "a37a84fd",
      "metadata": {
        "ExecuteTime": {
          "end_time": "2023-07-23T21:45:58.522044Z",
          "start_time": "2023-07-23T21:45:58.514370Z"
        },
        "id": "a37a84fd",
        "outputId": "58a36eb1-f848-4faa-b1f5-1d250a3e24e0",
        "colab": {
          "base_uri": "https://localhost:8080/"
        }
      },
      "outputs": [
        {
          "output_type": "stream",
          "name": "stdout",
          "text": [
            "Number of vowels in your string: 6\n"
          ]
        }
      ],
      "source": [
        "def count_vowels(string):\n",
        "    count = 0\n",
        "    for i in string:\n",
        "        if (i == 'a' or i == 'e' or i == 'i' or i == 'o' or i == 'u'):\n",
        "            count += 1\n",
        "    print(f\"Number of vowels in your string: {count}\")\n",
        "\n",
        "count_vowels(\"Everything takes time.\")"
      ]
    },
    {
      "cell_type": "markdown",
      "id": "a9a0ea06",
      "metadata": {
        "id": "a9a0ea06"
      },
      "source": [
        "### 5-Write a Python program that creates a list of numbers from 1 to 10. Use a loop to iterate over the list and print each number of power 2."
      ]
    },
    {
      "cell_type": "code",
      "execution_count": 5,
      "id": "6fa658cf",
      "metadata": {
        "ExecuteTime": {
          "end_time": "2023-07-23T21:48:02.328880Z",
          "start_time": "2023-07-23T21:48:02.314313Z"
        },
        "id": "6fa658cf",
        "outputId": "185f1b97-9521-42b9-93e5-b54d65e11c87",
        "colab": {
          "base_uri": "https://localhost:8080/"
        }
      },
      "outputs": [
        {
          "output_type": "stream",
          "name": "stdout",
          "text": [
            "The final result is: [1, 4, 9, 16, 25, 36, 49, 64, 81, 100]\n"
          ]
        }
      ],
      "source": [
        "# 2 approaches first:\n",
        "t_list = [1 , 2, 3, 4, 5, 6, 7, 8, 9, 10]\n",
        "# power_list = []\n",
        "\n",
        "# for m in t_list:\n",
        "#     result = m ** 2\n",
        "#     power_list.append(result)\n",
        "# print(f\"The final result is: {power_list}\")\n",
        "\n",
        "# second approach:\n",
        "power_list = list(map(lambda x: x**2, t_list))\n",
        "print(f\"The final result is: {power_list}\")\n"
      ]
    },
    {
      "cell_type": "markdown",
      "id": "430c9df9",
      "metadata": {
        "id": "430c9df9"
      },
      "source": [
        "### 6-Write a Python program that calculates the average grade for a student based on their scores in different subjects. The program should include the following steps:\n",
        "\n",
        "#### 1-Create variables to store the student's name, subject names, and corresponding scores. Initialize the variables with sample data.\n",
        "\n",
        "#### 2-Prompt the user to enter the student's name and assign it to the name variable.\n",
        "\n",
        "#### 3-Use a loop to prompt the user to enter the subject names and corresponding scores. Store the subject names in a list and the scores in another list.\n",
        "\n",
        "#### 4-After collecting the scores, calculate the average grade by summing up all the scores and dividing by the total number of subjects.\n",
        "\n",
        "#### 5-Check if the average grade is above a 70, print a congratulatory message. Otherwise, print an encouragement message."
      ]
    },
    {
      "cell_type": "code",
      "execution_count": 6,
      "id": "e0254271",
      "metadata": {
        "ExecuteTime": {
          "end_time": "2023-07-15T16:16:17.066909Z",
          "start_time": "2023-07-15T16:16:07.636799Z"
        },
        "id": "e0254271",
        "outputId": "e05dfa32-e192-437b-cbbf-ee2a65b9f1f2",
        "colab": {
          "base_uri": "https://localhost:8080/"
        }
      },
      "outputs": [
        {
          "output_type": "stream",
          "name": "stdout",
          "text": [
            "Enter your name: noha\n",
            "Enter Subject here: math\n",
            "Enter score here, too: 80\n",
            "Enter Subject here: statistics\n",
            "Enter score here, too: 90\n",
            "Total summtion is : 310\n",
            "The average of grades is: 77.5\n",
            "Congratulation!, wish you more best.\n"
          ]
        }
      ],
      "source": [
        "names = [\"noha\"]\n",
        "subjects = [\"logic\", \"programming\"]\n",
        "scores = [60, 80]\n",
        "\n",
        "n = input(\"Enter your name: \")\n",
        "names.append(n)\n",
        "\n",
        "sum = 0\n",
        "count = 0\n",
        "while count < 2:\n",
        "    input_sub = input(\"Enter Subject here: \")\n",
        "    input_score = int(input(\"Enter score here, too: \"))\n",
        "    subjects.append(input_sub)\n",
        "    scores.append(input_score)\n",
        "    count += 1\n",
        "\n",
        "for i in scores:\n",
        "    sum += i\n",
        "print(\"Total summtion is :\",sum)\n",
        "\n",
        "calc_avg = sum / len(scores)\n",
        "print(f\"The average of grades is: {calc_avg}\")\n",
        "\n",
        "if calc_avg > 70:\n",
        "    print(\"Congratulation!, wish you more best.\")\n",
        "else:\n",
        "    print(\"Sorry, study more and may God grant you success.\")"
      ]
    },
    {
      "cell_type": "markdown",
      "id": "ae9df360",
      "metadata": {
        "id": "ae9df360"
      },
      "source": [
        "### 7-Find Common Elements\n",
        "### Write a Python function that takes two lists as input and returns a new list containing the common elements present in both lists."
      ]
    },
    {
      "cell_type": "code",
      "execution_count": 7,
      "id": "d030c3c0",
      "metadata": {
        "ExecuteTime": {
          "end_time": "2023-07-23T22:08:16.794474Z",
          "start_time": "2023-07-23T22:08:16.775639Z"
        },
        "id": "d030c3c0",
        "outputId": "63c443e3-ee6b-428e-8c4f-cf1867cd803d",
        "colab": {
          "base_uri": "https://localhost:8080/"
        }
      },
      "outputs": [
        {
          "output_type": "stream",
          "name": "stdout",
          "text": [
            "The elements exist in 2 lists are: [3, 4, 7]\n"
          ]
        }
      ],
      "source": [
        "def lists(list1, list2):\n",
        "    new_list = []\n",
        "    for i in list1:\n",
        "        for j in list2:\n",
        "            if i == j:\n",
        "                new_list.append(j)\n",
        "    print(f\"The elements exist in 2 lists are: {new_list}\")\n",
        "\n",
        "lists([1,2,3,4,7],[4,5,6,7,3])"
      ]
    },
    {
      "cell_type": "markdown",
      "id": "9a2f34cb",
      "metadata": {
        "id": "9a2f34cb"
      },
      "source": [
        "### 8-Write a Python function that takes a list of numbers and an element to remove from the list."
      ]
    },
    {
      "cell_type": "code",
      "execution_count": 8,
      "id": "78de9fe8",
      "metadata": {
        "ExecuteTime": {
          "end_time": "2023-07-23T22:21:36.514592Z",
          "start_time": "2023-07-23T22:21:36.505437Z"
        },
        "id": "78de9fe8",
        "outputId": "c91365db-6a57-49b6-e7f9-490e4714fcfe",
        "colab": {
          "base_uri": "https://localhost:8080/"
        }
      },
      "outputs": [
        {
          "output_type": "stream",
          "name": "stdout",
          "text": [
            "your list is: [1, 2, 3, 4, 5, 10]\n",
            "After deletion, your new list is: [1, 2, 3, 4, 5]\n"
          ]
        }
      ],
      "source": [
        "def del_func(t_list, num):\n",
        "    if num in t_list:\n",
        "        print(f\"your list is: {t_list}\")\n",
        "        t_list.remove(num)\n",
        "        print(f\"After deletion, your new list is: {t_list}\")\n",
        "    else:\n",
        "        print(\"This number not in your list\")\n",
        "\n",
        "del_func([1,2,3,4,5,10],10)"
      ]
    },
    {
      "cell_type": "markdown",
      "id": "f1658f3b",
      "metadata": {
        "ExecuteTime": {
          "end_time": "2023-07-23T22:18:08.230185Z",
          "start_time": "2023-07-23T22:18:08.224220Z"
        },
        "id": "f1658f3b"
      },
      "source": [
        "### 9-Given 4 numbers A, B, C and D. Print the last 2 digits from their Multiplication.\n",
        "### Example :\n",
        "### the Multiplication of 4 numbers is 5 * 7 * 2 * 4 = 280 so the answer will be the last 2 digits which are 80."
      ]
    },
    {
      "cell_type": "code",
      "execution_count": 9,
      "id": "e3acbe03",
      "metadata": {
        "ExecuteTime": {
          "end_time": "2023-07-23T22:26:11.183016Z",
          "start_time": "2023-07-23T22:26:03.981069Z"
        },
        "id": "e3acbe03",
        "outputId": "c1589619-8751-404b-b25b-080acbd99c6b",
        "colab": {
          "base_uri": "https://localhost:8080/"
        }
      },
      "outputs": [
        {
          "output_type": "stream",
          "name": "stdout",
          "text": [
            "Enter number: 4\n",
            "Enter number: 5\n",
            "Enter number: 6\n",
            "Enter number: 7\n",
            "The result for multiplication is: 840\n",
            "Last 2 digits are: 40\n"
          ]
        }
      ],
      "source": [
        "count = 1\n",
        "multiply = 1\n",
        "while count < 5:\n",
        "    numbers = int(input(\"Enter number: \"))\n",
        "    count += 1\n",
        "    multiply *= numbers\n",
        "\n",
        "print(f\"The result for multiplication is: {multiply}\")\n",
        "print(f\"Last 2 digits are: {multiply % 100}\")"
      ]
    },
    {
      "cell_type": "markdown",
      "id": "d7ab15bb",
      "metadata": {
        "ExecuteTime": {
          "end_time": "2023-07-23T22:26:14.833712Z",
          "start_time": "2023-07-23T22:26:14.819130Z"
        },
        "id": "d7ab15bb"
      },
      "source": [
        "### 10- Given a number X. Determine if the number is prime or not"
      ]
    },
    {
      "cell_type": "code",
      "execution_count": 10,
      "id": "59b27f0a",
      "metadata": {
        "ExecuteTime": {
          "end_time": "2023-07-23T22:35:25.933766Z",
          "start_time": "2023-07-23T22:35:24.168681Z"
        },
        "id": "59b27f0a",
        "outputId": "ae1dd61a-750c-43a4-bf50-4f78b9664895",
        "colab": {
          "base_uri": "https://localhost:8080/"
        }
      },
      "outputs": [
        {
          "output_type": "stream",
          "name": "stdout",
          "text": [
            "Enter number: 20\n",
            "20 is not prime number\n"
          ]
        }
      ],
      "source": [
        "x = int(input(\"Enter number: \"))\n",
        "count = False\n",
        "\n",
        "if x == 0 or x == 1:\n",
        "    print(f\"{x} is not prime number\")\n",
        "elif x > 1:\n",
        "    for i in range(2, x):\n",
        "        if (x % i) == 0:\n",
        "            count = True\n",
        "            break\n",
        "    if count:\n",
        "        print(f\"{x} is not prime number\")\n",
        "    else:\n",
        "        print(f\"{x} is prime number\")"
      ]
    },
    {
      "cell_type": "markdown",
      "id": "e1d1dcf9",
      "metadata": {
        "id": "e1d1dcf9"
      },
      "source": [
        "### 11- Given a number N and a list A of N numbers. Determine if the number X exists in array A or not and print its position (0-index)."
      ]
    },
    {
      "cell_type": "code",
      "execution_count": 11,
      "id": "2b002b0e",
      "metadata": {
        "ExecuteTime": {
          "end_time": "2023-07-23T22:53:41.474835Z",
          "start_time": "2023-07-23T22:53:41.458293Z"
        },
        "id": "2b002b0e",
        "outputId": "0f01555d-9c93-4a9d-8e25-d7eff36d210e",
        "colab": {
          "base_uri": "https://localhost:8080/"
        }
      },
      "outputs": [
        {
          "output_type": "stream",
          "name": "stdout",
          "text": [
            "Your number is found and its index is:  3\n"
          ]
        }
      ],
      "source": [
        "def find_element(t_list, n):\n",
        "    if n in t_list:\n",
        "        print(\"Your number is found and its index is: \", t_list.index(n))\n",
        "    else:\n",
        "        print(\"Sorry, number Not found\")\n",
        "\n",
        "find_element([1,2,3,4],4)"
      ]
    },
    {
      "cell_type": "markdown",
      "id": "f2ec854b",
      "metadata": {
        "id": "f2ec854b"
      },
      "source": [
        "### 12- Given a number N and a list A of N numbers. Determine if the array is lucky or not.\n",
        "\n",
        "#### Note: the array is lucky if the frequency (number of occurrence) of the minimum element is odd."
      ]
    },
    {
      "cell_type": "code",
      "execution_count": 12,
      "id": "0c4f7f4b",
      "metadata": {
        "ExecuteTime": {
          "end_time": "2023-07-23T23:02:02.490192Z",
          "start_time": "2023-07-23T23:02:02.476874Z"
        },
        "id": "0c4f7f4b",
        "outputId": "33863c7c-f77b-452c-98da-56942215b929",
        "colab": {
          "base_uri": "https://localhost:8080/"
        }
      },
      "outputs": [
        {
          "output_type": "stream",
          "name": "stdout",
          "text": [
            "your list [15, 12, 10, 14, 13, 10] not lucky because number 10 occures 2 times\n"
          ]
        }
      ],
      "source": [
        "A_list = [15, 12, 10, 14, 13, 10]\n",
        "min_num = min(A_list)\n",
        "\n",
        "count = 0\n",
        "for i in A_list:\n",
        "    if i == min_num:\n",
        "        count += 1\n",
        "if count % 2 != 0:\n",
        "    print(f\"your list {A_list} is lucky\")\n",
        "else:\n",
        "    print(f\"your list {A_list} not lucky because number {min_num} occures {count} times\")"
      ]
    },
    {
      "cell_type": "markdown",
      "id": "e1ce1ae5",
      "metadata": {
        "id": "e1ce1ae5"
      },
      "source": [
        "### 13-Given a number N and a list A of N numbers. Print the array after doing the following operations:\n",
        "\n",
        "#### Find minimum number in these numbers.\n",
        "#### Find maximum number in these numbers.\n",
        "##### Swap minimum number with maximum number."
      ]
    },
    {
      "cell_type": "code",
      "execution_count": 13,
      "id": "e0d6e639",
      "metadata": {
        "ExecuteTime": {
          "end_time": "2023-07-23T23:10:04.293733Z",
          "start_time": "2023-07-23T23:10:04.280256Z"
        },
        "id": "e0d6e639",
        "outputId": "4dee7799-5969-42af-9c43-cd33c1f24a65",
        "colab": {
          "base_uri": "https://localhost:8080/"
        }
      },
      "outputs": [
        {
          "output_type": "stream",
          "name": "stdout",
          "text": [
            "The maximum number is:  6\n",
            "The minimum number is:  1\n",
            "After swapping max number is: 1\n",
            "After swapping min number is: 6\n"
          ]
        }
      ],
      "source": [
        "A_list = [1 ,2, 3, 4, 5, 6]\n",
        "\n",
        "max_num = max(A_list)\n",
        "min_num = min(A_list)\n",
        "\n",
        "print(\"The maximum number is: \", max_num)\n",
        "print(\"The minimum number is: \", min_num)\n",
        "\n",
        "var = max_num\n",
        "max_num = min_num\n",
        "min_num = var\n",
        "\n",
        "print(f\"After swapping max number is: {max_num}\")\n",
        "print(f\"After swapping min number is: {min_num}\")"
      ]
    },
    {
      "cell_type": "markdown",
      "id": "9eb8e9c5",
      "metadata": {
        "ExecuteTime": {
          "end_time": "2023-07-23T23:10:06.436833Z",
          "start_time": "2023-07-23T23:10:06.422086Z"
        },
        "id": "9eb8e9c5"
      },
      "source": [
        "### 14-Given a number N and an array A of N numbers. Print the lowest number and its position.\n",
        "\n",
        "### Note: if there are more than one answer print first one's position."
      ]
    },
    {
      "cell_type": "code",
      "execution_count": 14,
      "id": "018e01c8",
      "metadata": {
        "ExecuteTime": {
          "end_time": "2023-07-23T23:20:38.498527Z",
          "start_time": "2023-07-23T23:20:38.490451Z"
        },
        "id": "018e01c8",
        "outputId": "8611a6b9-8728-4823-dcb9-6fd011436a69",
        "colab": {
          "base_uri": "https://localhost:8080/"
        }
      },
      "outputs": [
        {
          "output_type": "stream",
          "name": "stdout",
          "text": [
            "The minimum number is: 0, and its position is: 2 \n"
          ]
        }
      ],
      "source": [
        "A_list = [2, 3, 0, 4, 5, 6, 1, 0]\n",
        "min_num = min(A_list)\n",
        "\n",
        "print(f\"The minimum number is: {min_num}, and its position is: {A_list.index(min_num)} \")"
      ]
    },
    {
      "cell_type": "markdown",
      "id": "f35d3427",
      "metadata": {
        "ExecuteTime": {
          "end_time": "2023-07-23T23:20:55.880128Z",
          "start_time": "2023-07-23T23:20:55.861804Z"
        },
        "id": "f35d3427"
      },
      "source": [
        "### 15-Given a number N and an array A of N numbers. Print the numbers after sorting them"
      ]
    },
    {
      "cell_type": "code",
      "execution_count": 15,
      "id": "a6e0edd4",
      "metadata": {
        "ExecuteTime": {
          "end_time": "2023-07-23T23:46:13.340484Z",
          "start_time": "2023-07-23T23:46:13.324468Z"
        },
        "id": "a6e0edd4",
        "outputId": "55fec20d-9f21-48d6-aba7-4230fe92d81d",
        "colab": {
          "base_uri": "https://localhost:8080/"
        }
      },
      "outputs": [
        {
          "output_type": "stream",
          "name": "stdout",
          "text": [
            "The array before sorting is: [12, 1, 10, 20, 2, 0]\n",
            "The array after sorting is: [0, 1, 2, 10, 12, 20]\n"
          ]
        }
      ],
      "source": [
        "A_list = [12, 1, 10, 20, 2, 0,]\n",
        "print(f\"The array before sorting is: {A_list}\")\n",
        "\n",
        "A_list.sort()\n",
        "print(f\"The array after sorting is: {A_list}\")"
      ]
    },
    {
      "cell_type": "markdown",
      "id": "a172f354",
      "metadata": {
        "ExecuteTime": {
          "end_time": "2023-07-23T23:46:15.127981Z",
          "start_time": "2023-07-23T23:46:15.108766Z"
        },
        "id": "a172f354"
      },
      "source": [
        "### 16- Write a Python program to remove spaces from a given string"
      ]
    },
    {
      "cell_type": "code",
      "execution_count": 16,
      "id": "36d3569d",
      "metadata": {
        "ExecuteTime": {
          "end_time": "2023-07-23T23:50:06.443640Z",
          "start_time": "2023-07-23T23:50:01.592919Z"
        },
        "id": "36d3569d",
        "outputId": "11df349e-f010-4f9b-8028-64270754976d",
        "colab": {
          "base_uri": "https://localhost:8080/"
        }
      },
      "outputs": [
        {
          "output_type": "stream",
          "name": "stdout",
          "text": [
            "The result is: Whatareyoudoinghere?\n"
          ]
        }
      ],
      "source": [
        "string = \"What are you doing here?\"\n",
        "result = string.replace(\" \",\"\")\n",
        "print(f\"The result is: {result}\")"
      ]
    },
    {
      "cell_type": "markdown",
      "id": "a5470d49",
      "metadata": {
        "id": "a5470d49"
      },
      "source": [
        "### 17-write a Python program to swap first and last element of any list."
      ]
    },
    {
      "cell_type": "code",
      "execution_count": 17,
      "id": "9d73887b",
      "metadata": {
        "ExecuteTime": {
          "end_time": "2023-07-23T23:50:59.283429Z",
          "start_time": "2023-07-23T23:50:59.272096Z"
        },
        "id": "9d73887b",
        "outputId": "cdde46d2-4047-47fa-d505-871b3e670ca0",
        "colab": {
          "base_uri": "https://localhost:8080/"
        }
      },
      "outputs": [
        {
          "output_type": "stream",
          "name": "stdout",
          "text": [
            "The normal list is: [10, 20, 30, 40, 50]\n",
            "The list after swapping is: [50, 20, 30, 40, 10]\n"
          ]
        }
      ],
      "source": [
        "B_list = [10, 20, 30, 40, 50]\n",
        "print(f\"The normal list is: {B_list}\")\n",
        "\n",
        "B_list[0], B_list[-1] = B_list[-1], B_list[0]\n",
        "print(f\"The list after swapping is: {B_list}\")"
      ]
    },
    {
      "cell_type": "markdown",
      "source": [
        "# **Write a Python Program to Find HCF.**\n",
        "## Highest Common Factor(HCF): HCF, or Highest Common Factor, is the largest positive integer that divides two or more numbers without leaving a remainder. Formula: For two numbers a and b, the HCF can be found using the formula:\n",
        "\n",
        "** HCF(𝑎, 𝑏) = GCD(𝑎, 𝑏)**\n",
        "For more than two numbers, you can find the HCF by taking the GCD of pairs of numbers at a time until you reach the last pair.\n",
        "\n",
        "# **Note: GCD stands for Greatest Common Divisor, use function.**\n"
      ],
      "metadata": {
        "id": "iS6JiE4uPbyH"
      },
      "id": "iS6JiE4uPbyH"
    },
    {
      "cell_type": "code",
      "source": [
        "num1 = int(input(\"Enter first number: \"))\n",
        "num2 = int(input(\"Enter second number: \"))\n",
        "\n",
        "def calc_GCD(x, y):\n",
        "    if x >= y:\n",
        "        smaller = y\n",
        "    else:\n",
        "        smaller = x\n",
        "    for i in range(1, smaller+1):\n",
        "        if((x % i == 0) and (y % i == 0)):\n",
        "            gcd = i\n",
        "    return gcd\n",
        "\n",
        "print(\"The GCD is: \", calc_GCD(num1, num2))"
      ],
      "metadata": {
        "id": "9qUfYf0wPnvt",
        "outputId": "f04337ff-9163-404c-cbcd-722c6f178684",
        "colab": {
          "base_uri": "https://localhost:8080/"
        }
      },
      "id": "9qUfYf0wPnvt",
      "execution_count": 18,
      "outputs": [
        {
          "output_type": "stream",
          "name": "stdout",
          "text": [
            "Enter first number: 16\n",
            "Enter second number: 24\n",
            "The GCD is:  8\n"
          ]
        }
      ]
    },
    {
      "cell_type": "code",
      "source": [],
      "metadata": {
        "id": "z_H0XSJnPeMw"
      },
      "id": "z_H0XSJnPeMw",
      "execution_count": null,
      "outputs": []
    }
  ],
  "metadata": {
    "kernelspec": {
      "display_name": "Python 3 (ipykernel)",
      "language": "python",
      "name": "python3"
    },
    "language_info": {
      "codemirror_mode": {
        "name": "ipython",
        "version": 3
      },
      "file_extension": ".py",
      "mimetype": "text/x-python",
      "name": "python",
      "nbconvert_exporter": "python",
      "pygments_lexer": "ipython3",
      "version": "3.9.12"
    },
    "colab": {
      "provenance": []
    }
  },
  "nbformat": 4,
  "nbformat_minor": 5
}