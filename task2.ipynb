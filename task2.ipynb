{
  "nbformat": 4,
  "nbformat_minor": 0,
  "metadata": {
    "colab": {
      "provenance": []
    },
    "kernelspec": {
      "name": "python3",
      "display_name": "Python 3"
    },
    "language_info": {
      "name": "python"
    }
  },
  "cells": [
    {
      "cell_type": "code",
      "execution_count": null,
      "metadata": {
        "id": "vs_SU3ng0tbN"
      },
      "outputs": [],
      "source": []
    },
    {
      "cell_type": "markdown",
      "source": [
        "\n",
        "# **WAP to enter a number from user and print its absolute value.**"
      ],
      "metadata": {
        "id": "MnWAiH2o0zSa"
      }
    },
    {
      "cell_type": "code",
      "source": [
        "abs_num = int(input(\"Enter a number : \"))\n",
        "if (abs_num >= 0):\n",
        "    print(\"The absolute value of (Pos_num) is :\",abs_num)\n",
        "else:\n",
        "    print(\"The absolute value of (Neg_num) is :\",abs_num * -1)"
      ],
      "metadata": {
        "id": "l3oLMLbk02Pj",
        "colab": {
          "base_uri": "https://localhost:8080/"
        },
        "outputId": "cd4812c7-3906-4ef8-a4cd-c613cd72dc94"
      },
      "execution_count": 1,
      "outputs": [
        {
          "output_type": "stream",
          "name": "stdout",
          "text": [
            "Enter a number : -10\n",
            "The absolute value of (Neg_num) is : 10\n"
          ]
        }
      ]
    },
    {
      "cell_type": "markdown",
      "source": [
        "# **WAP to enter a year from user and check if it is leap year or not.**"
      ],
      "metadata": {
        "id": "pOnjNwNx03Tr"
      }
    },
    {
      "cell_type": "code",
      "source": [
        "year = int(input(\"Enter a year: \"))\n",
        "if (year % 400 == 0):\n",
        "    print(f\"{year} is a leap year\")\n",
        "elif (year % 4 == 0) and (year % 100 != 0):\n",
        "    print(f\"{year} is a leap year, too\")\n",
        "else:\n",
        "    print(f\"{year} isn't a leap year\")"
      ],
      "metadata": {
        "id": "4PEtUTm51H6x",
        "colab": {
          "base_uri": "https://localhost:8080/"
        },
        "outputId": "e65cf84c-4e50-4d29-f0fb-64a618df2188"
      },
      "execution_count": 2,
      "outputs": [
        {
          "output_type": "stream",
          "name": "stdout",
          "text": [
            "Enter a year: 2024\n",
            "2024 is a leap year, too\n"
          ]
        }
      ]
    },
    {
      "cell_type": "markdown",
      "source": [
        "# **WAP to enter the age of 3 person and print oldest and yougest among them.**"
      ],
      "metadata": {
        "id": "sn-NADUn1VGn"
      }
    },
    {
      "cell_type": "code",
      "source": [
        "person1 = int(input(\"P1, Enter your age: \"))\n",
        "person2 = int(input(\"P2, Enter your age: \"))\n",
        "person3 = int(input(\"P3, Enter your age: \"))\n",
        "\n",
        "if (person1 > person2):\n",
        "    if (person1 > person3):\n",
        "        print(\"person1 ==> has oldest age.\")\n",
        "        if (person3 > person2):\n",
        "            print(\"person2 ==> has youngest age.\")\n",
        "        else:\n",
        "            print(\"person3 ==> has youngest age.\")\n",
        "    else:\n",
        "        print(\"person3 ==> has oldest age.\")\n",
        "        if (person1 > person2):\n",
        "            print('person2 ==> has youngest age.')\n",
        "        else:\n",
        "            print('person1 ==> has youngest age.')\n",
        "else:\n",
        "    if (person2 > person3):\n",
        "        print('person2 ==> has oldest age.')\n",
        "        if (person3 > person1 ):\n",
        "            print('person1 ==> has youngest age.')\n",
        "        else:\n",
        "            print('person3 ==> has youngest age.')\n",
        "    else:\n",
        "        print('person3 ==> has oldest age.')\n",
        "        if (person1 > person2):\n",
        "            print('person2 ==> has youngest age.')\n",
        "        else:\n",
        "            print('person1 ==> has youngest age.')"
      ],
      "metadata": {
        "id": "uNGWS1AT1cYP",
        "colab": {
          "base_uri": "https://localhost:8080/"
        },
        "outputId": "721d73eb-a5e8-4d6c-d90d-404b196443f5"
      },
      "execution_count": 7,
      "outputs": [
        {
          "output_type": "stream",
          "name": "stdout",
          "text": [
            "P1, Enter your age: 30\n",
            "P2, Enter your age: 44\n",
            "P3, Enter your age: 12\n",
            "person2 ==> has oldest age.\n",
            "person3 ==> has youngest age.\n"
          ]
        }
      ]
    },
    {
      "cell_type": "markdown",
      "source": [
        "# **Write a program that asks the user to enter a series of numbers. The program should ask for numbers until the user enters a negative number. Once the user enters a negative number, the program should stop and print the sum of all the positive numbers entered**\n",
        "# **Example**\n",
        "# **Enter a number: 5**\n",
        "# **Enter a number: 8**\n",
        "# **Enter a number: 12**\n",
        "# **Enter a number: -2**\n",
        "# **The sum of the positive numbers is 25.**"
      ],
      "metadata": {
        "id": "XFRRNGVj1dEw"
      }
    },
    {
      "cell_type": "code",
      "source": [
        "count = 1\n",
        "sum = 0\n",
        "while count < 5:\n",
        "    num = int(input(\"Write a number: \"))\n",
        "    if (num < 0):\n",
        "        break\n",
        "    sum += num\n",
        "    count += 1\n",
        "\n",
        "print(\"The sum of the positive numbers is :\",sum)"
      ],
      "metadata": {
        "id": "ijp9SzHu2A3p",
        "colab": {
          "base_uri": "https://localhost:8080/"
        },
        "outputId": "f34ecf92-59bb-45a3-bf46-3480a97a184c"
      },
      "execution_count": 4,
      "outputs": [
        {
          "output_type": "stream",
          "name": "stdout",
          "text": [
            "Write a number: 9\n",
            "Write a number: 4\n",
            "Write a number: 6\n",
            "Write a number: -1\n",
            "The sum of the positive numbers is : 19\n"
          ]
        }
      ]
    },
    {
      "cell_type": "markdown",
      "source": [
        "# **Write a program that asks the user to enter their name and age. The program should check if the user's age is greater than or equal to 18. If it is, the program should print a message saying they are eligible to vote. Otherwise, the program should print a message saying they are not eligible to vote due to being underage.**"
      ],
      "metadata": {
        "id": "oODCHUj62DxA"
      }
    },
    {
      "cell_type": "code",
      "source": [
        "name = input(\"Welcome, Enter your name : \")\n",
        "age = int(input(\"Enter your age, too :\"))\n",
        "if (age >= 18):\n",
        "    print(\"Okay, you are eligible to vote.\")\n",
        "else:\n",
        "    print(\"Sorry, you aren't eligibie to vote due to underage.\")"
      ],
      "metadata": {
        "id": "Svls1cLA2JVA",
        "colab": {
          "base_uri": "https://localhost:8080/"
        },
        "outputId": "f5b33b32-eb56-4acb-d789-853beb2ddcd4"
      },
      "execution_count": 5,
      "outputs": [
        {
          "output_type": "stream",
          "name": "stdout",
          "text": [
            "Welcome, Enter your name : rahma\n",
            "Enter your age, too :20\n",
            "Okay, you are eligible to vote.\n"
          ]
        }
      ]
    },
    {
      "cell_type": "markdown",
      "source": [
        "# **Write a Python Program to Find the Factorial of a Number**"
      ],
      "metadata": {
        "id": "2y5o5SqL3nvL"
      }
    },
    {
      "cell_type": "code",
      "source": [
        "number = int(input(\"Enter your number:\"))\n",
        "factorial = 1\n",
        "i = 1\n",
        "while i <= number:\n",
        "    factorial *= i\n",
        "    i += 1\n",
        "print(f\"The factorial of a Number is : {factorial}\")"
      ],
      "metadata": {
        "id": "Q_v3ns1D3tgy",
        "colab": {
          "base_uri": "https://localhost:8080/"
        },
        "outputId": "42558b21-4cc8-4c4e-e355-265c0490c598"
      },
      "execution_count": 6,
      "outputs": [
        {
          "output_type": "stream",
          "name": "stdout",
          "text": [
            "Enter your number:5\n",
            "The factorial of a Number is : 120\n"
          ]
        }
      ]
    },
    {
      "cell_type": "code",
      "source": [],
      "metadata": {
        "id": "WY2ce1GmfCJc"
      },
      "execution_count": null,
      "outputs": []
    }
  ]
}